{
 "cells": [
  {
   "cell_type": "markdown",
   "metadata": {},
   "source": [
    "# Авиакомпания Россия"
   ]
  },
  {
   "cell_type": "markdown",
   "metadata": {},
   "source": [
    "## Рабочая зона Сони"
   ]
  },
  {
   "cell_type": "code",
   "execution_count": null,
   "metadata": {},
   "outputs": [],
   "source": [
    "import pandas as pd\n",
    "import numpy as np"
   ]
  },
  {
   "cell_type": "code",
   "execution_count": null,
   "metadata": {},
   "outputs": [],
   "source": [
    "data = pd.read_excel('ID.xls')\n",
    "data.head()"
   ]
  },
  {
   "cell_type": "code",
   "execution_count": null,
   "metadata": {},
   "outputs": [],
   "source": [
    "solution = pd.read_excel('Expert.xls')\n",
    "solution.head()"
   ]
  },
  {
   "cell_type": "code",
   "execution_count": null,
   "metadata": {},
   "outputs": [],
   "source": [
    "flight = data.iloc[0]\n",
    "flight"
   ]
  },
  {
   "cell_type": "code",
   "execution_count": null,
   "metadata": {},
   "outputs": [],
   "source": [
    "night_start = '22:00'\n",
    "night_end = '6:00'"
   ]
  },
  {
   "cell_type": "code",
   "execution_count": null,
   "metadata": {},
   "outputs": [],
   "source": [
    "start = flight['Время вылета']\n",
    "duration = flight['Налет']"
   ]
  },
  {
   "cell_type": "code",
   "execution_count": null,
   "metadata": {},
   "outputs": [],
   "source": [
    "def sum_time(start, duration):\n",
    "    st = list(map(lambda x: int(x), start.split(':')))\n",
    "    dur = list(map(lambda x: int(x), duration.split(':')))\n",
    "    a = [st[0] + dur[0],st[1] + dur[1]]\n",
    "    if a[1]>= 60:\n",
    "        a[0] += 1\n",
    "        a[1] -= 60\n",
    "    if a[0]>=24:\n",
    "        a[0] -= 24\n",
    "    return str(a[0])+':'+str(a[1])"
   ]
  },
  {
   "cell_type": "code",
   "execution_count": null,
   "metadata": {},
   "outputs": [],
   "source": [
    "def in_minuts(duration):\n",
    "    dur  = np.array(list(map(lambda x: int(x), duration.split(':'))))\n",
    "    return dur[0]*60 + dur[1]"
   ]
  },
  {
   "cell_type": "code",
   "execution_count": null,
   "metadata": {},
   "outputs": [],
   "source": [
    "def in_hours(minuts):\n",
    "    h = int(minuts // 60)\n",
    "    m = int(minuts % 60)\n",
    "    if h < 10:\n",
    "        h = '0'+ str(h)\n",
    "    else:\n",
    "        h = str(h)\n",
    "    if m < 10:\n",
    "        m = '0'+ str(m)\n",
    "    else:\n",
    "        m = str(m)\n",
    "    return h + ':' + m"
   ]
  },
  {
   "cell_type": "code",
   "execution_count": null,
   "metadata": {},
   "outputs": [],
   "source": [
    "def find_night_minuts(fligt_time):\n",
    "    night_h1 = list(map(lambda x: in_minuts(x), ['00:00','06:00']))\n",
    "    night_h2 = list(map(lambda x: in_minuts(x), ['22:00','23:59']))\n",
    "    f = list(map(lambda x: in_minuts(x), fligt_time))\n",
    "    delta = 0\n",
    "\n",
    "    if f[0] < night_h1[1]:\n",
    "        if f[1] < night_h1[1]: # весь полёт попал в первую половину ночи\n",
    "            delta += f[1] - f[0] # Длительность полёта в минутах\n",
    "        else:\n",
    "            delta += 6*60 - f[0] \n",
    "    elif f[0] > night_h1[1] and f[0] < night_h2[0]:\n",
    "        if f[1] > night_h1[1] and f[1] < night_h2[0]:\n",
    "            if f[0] < f[1]:\n",
    "                delta += 0  #дневное время\n",
    "            else:\n",
    "                delta += night_h1[1] + night_h2[1] - night_h2[0] + 1#очень длинный перелёт\n",
    "\n",
    "        elif f[1] > night_h2[0] and f[1] < night_h2[1]:\n",
    "            delta += f[1] - night_h2[0] #часть полёта в вечернее время\n",
    "\n",
    "        elif f[1] > night_h1[0] and f[1] < night_h1[1]:\n",
    "            delta += f[1] + night_h2[1] - night_h2[0] + 1\n",
    "\n",
    "    elif f[0] > night_h2[0]:\n",
    "        if f[1] > night_h2[0] and f[1] < night_h2[1]:\n",
    "            delta += f[1]-f[0]\n",
    "        elif f[1] < night_h1[1]: \n",
    "            delta += night_h2[1] - f[0] + f[1] + 1\n",
    "        elif f[1] > night_h1[1] and f[1] < night_h2[0]:\n",
    "            delta += night_h2[1] - f[0] + night_h1[1] + 1\n",
    "\n",
    "    return delta    "
   ]
  },
  {
   "cell_type": "code",
   "execution_count": null,
   "metadata": {},
   "outputs": [],
   "source": [
    "def night_percent(start, duration): # start и duration 'hh:mm'\n",
    "    d0 = in_minuts(duration)\n",
    "    d = in_hours(d0/2)\n",
    "    t = sum_time(start, d)\n",
    "    h1 = [start, t]\n",
    "    t = sum_time(t, '01:30')\n",
    "    h2 = [t, sum_time(t,d)]\n",
    "    return (find_night_minuts(h1) + find_night_minuts(h2))/d0"
   ]
  },
  {
   "cell_type": "code",
   "execution_count": null,
   "metadata": {},
   "outputs": [],
   "source": [
    "def is_night_flight(flight):\n",
    "    start = flight['Время вылета']\n",
    "    duration = flight['Налет']\n",
    "    n_pc = night_percent(start, duration)\n",
    "    if n_pc > 0.5:\n",
    "        return True\n",
    "    else:\n",
    "        return False"
   ]
  },
  {
   "cell_type": "code",
   "execution_count": null,
   "metadata": {},
   "outputs": [],
   "source": [
    "is_night_flight(flight)"
   ]
  },
  {
   "cell_type": "markdown",
   "metadata": {},
   "source": [
    "## Рабочая зона Лёши"
   ]
  },
  {
   "cell_type": "markdown",
   "metadata": {},
   "source": [
    "Импорт библиотек"
   ]
  },
  {
   "cell_type": "code",
   "execution_count": 1,
   "metadata": {},
   "outputs": [],
   "source": [
    "import pandas as pd\n",
    "import numpy as np"
   ]
  },
  {
   "cell_type": "markdown",
   "metadata": {},
   "source": [
    "Лайфхак как не импортировать данные"
   ]
  },
  {
   "cell_type": "code",
   "execution_count": 2,
   "metadata": {},
   "outputs": [],
   "source": [
    "import json"
   ]
  },
  {
   "cell_type": "code",
   "execution_count": 3,
   "metadata": {},
   "outputs": [],
   "source": [
    "with open(\"delta.json\", \"r\") as file:\n",
    "    delta = np.array(json.loads(file.read()))"
   ]
  },
  {
   "cell_type": "code",
   "execution_count": 4,
   "metadata": {},
   "outputs": [],
   "source": [
    "with open(\"ideal.json\", \"r\") as file:\n",
    "    ideal = np.array(json.loads(file.read()))"
   ]
  },
  {
   "cell_type": "markdown",
   "metadata": {},
   "source": [
    "Продолжаем импорт библиотек"
   ]
  },
  {
   "cell_type": "code",
   "execution_count": 2,
   "metadata": {},
   "outputs": [],
   "source": [
    "from russiya_airlines_solver import Solver\n",
    "from russiya_airlines_interface import data_setting"
   ]
  },
  {
   "cell_type": "markdown",
   "metadata": {},
   "source": [
    "Импорт исходных данных, который мы заслужили"
   ]
  },
  {
   "cell_type": "code",
   "execution_count": 4,
   "metadata": {},
   "outputs": [
    {
     "name": "stdout",
     "output_type": "stream",
     "text": [
      "Данные о книгах:\n",
      "           1       2       3       4       5       6\n",
      "ВВЛ  125.54  122.84  129.97  127.26  123.32  130.64\n",
      "МВЛ  119.88  117.30  124.10  121.51  117.76  124.75\n",
      "СНГ  122.03  119.41  126.33  123.69  119.87  126.99\n",
      "\n",
      "Данные о связках:\n",
      "\n"
     ]
    },
    {
     "data": {
      "text/html": [
       "<div>\n",
       "<style scoped>\n",
       "    .dataframe tbody tr th:only-of-type {\n",
       "        vertical-align: middle;\n",
       "    }\n",
       "\n",
       "    .dataframe tbody tr th {\n",
       "        vertical-align: top;\n",
       "    }\n",
       "\n",
       "    .dataframe thead th {\n",
       "        text-align: right;\n",
       "    }\n",
       "</style>\n",
       "<table border=\"1\" class=\"dataframe\">\n",
       "  <thead>\n",
       "    <tr style=\"text-align: right;\">\n",
       "      <th></th>\n",
       "      <th>День месяца</th>\n",
       "      <th>Время вылета</th>\n",
       "      <th>Связка</th>\n",
       "      <th>Назначение</th>\n",
       "      <th>Тип судна</th>\n",
       "      <th>Тип связи</th>\n",
       "      <th>Налет</th>\n",
       "      <th>Экипаж</th>\n",
       "    </tr>\n",
       "  </thead>\n",
       "  <tbody>\n",
       "    <tr>\n",
       "      <th>0</th>\n",
       "      <td>1</td>\n",
       "      <td>02:55</td>\n",
       "      <td>route 1</td>\n",
       "      <td>city 61</td>\n",
       "      <td>А-320</td>\n",
       "      <td>ВВЛ</td>\n",
       "      <td>10:50</td>\n",
       "      <td>4</td>\n",
       "    </tr>\n",
       "    <tr>\n",
       "      <th>1</th>\n",
       "      <td>1</td>\n",
       "      <td>03:55</td>\n",
       "      <td>route 2</td>\n",
       "      <td>city 60</td>\n",
       "      <td>А-320</td>\n",
       "      <td>МВЛ</td>\n",
       "      <td>06:00</td>\n",
       "      <td>4</td>\n",
       "    </tr>\n",
       "    <tr>\n",
       "      <th>2</th>\n",
       "      <td>1</td>\n",
       "      <td>04:10</td>\n",
       "      <td>route 3</td>\n",
       "      <td>city 23</td>\n",
       "      <td>А-319</td>\n",
       "      <td>ВВЛ</td>\n",
       "      <td>03:00</td>\n",
       "      <td>3</td>\n",
       "    </tr>\n",
       "    <tr>\n",
       "      <th>3</th>\n",
       "      <td>1</td>\n",
       "      <td>04:40</td>\n",
       "      <td>route 4</td>\n",
       "      <td>city 32</td>\n",
       "      <td>А-319</td>\n",
       "      <td>МВЛ</td>\n",
       "      <td>08:35</td>\n",
       "      <td>3</td>\n",
       "    </tr>\n",
       "    <tr>\n",
       "      <th>4</th>\n",
       "      <td>1</td>\n",
       "      <td>05:00</td>\n",
       "      <td>route 5</td>\n",
       "      <td>city 8</td>\n",
       "      <td>А-319</td>\n",
       "      <td>ВВЛ</td>\n",
       "      <td>06:15</td>\n",
       "      <td>3</td>\n",
       "    </tr>\n",
       "  </tbody>\n",
       "</table>\n",
       "</div>"
      ],
      "text/plain": [
       "   День месяца Время вылета   Связка Назначение Тип судна Тип связи  Налет  \\\n",
       "0            1        02:55  route 1    city 61    А-320        ВВЛ  10:50   \n",
       "1            1        03:55  route 2    city 60    А-320        МВЛ  06:00   \n",
       "2            1        04:10  route 3    city 23    А-319        ВВЛ  03:00   \n",
       "3            1        04:40  route 4    city 32    А-319        МВЛ  08:35   \n",
       "4            1        05:00  route 5     city 8    А-319        ВВЛ  06:15   \n",
       "\n",
       "   Экипаж  \n",
       "0       4  \n",
       "1       4  \n",
       "2       3  \n",
       "3       3  \n",
       "4       3  "
      ]
     },
     "execution_count": 4,
     "metadata": {},
     "output_type": "execute_result"
    }
   ],
   "source": [
    "data, crew = data_setting()\n",
    "print('Данные о книгах:\\n', crew)\n",
    "print('\\nДанные о связках:\\n')\n",
    "data.head(5)"
   ]
  },
  {
   "cell_type": "markdown",
   "metadata": {},
   "source": [
    "#### Решатель"
   ]
  },
  {
   "cell_type": "code",
   "execution_count": 5,
   "metadata": {},
   "outputs": [
    {
     "ename": "NameError",
     "evalue": "name 'delta' is not defined",
     "output_type": "error",
     "traceback": [
      "\u001b[1;31m---------------------------------------------------------------------------\u001b[0m",
      "\u001b[1;31mNameError\u001b[0m                                 Traceback (most recent call last)",
      "\u001b[1;32m<ipython-input-5-038be8044a6c>\u001b[0m in \u001b[0;36m<module>\u001b[1;34m\u001b[0m\n\u001b[1;32m----> 1\u001b[1;33m \u001b[0mprint\u001b[0m\u001b[1;33m(\u001b[0m\u001b[0mSolver\u001b[0m\u001b[1;33m(\u001b[0m\u001b[0mdata\u001b[0m\u001b[1;33m,\u001b[0m \u001b[0mcrew\u001b[0m\u001b[1;33m,\u001b[0m \u001b[0mdelta\u001b[0m\u001b[1;33m,\u001b[0m \u001b[0mideal\u001b[0m\u001b[1;33m)\u001b[0m\u001b[1;33m.\u001b[0m\u001b[0msolve\u001b[0m\u001b[1;33m(\u001b[0m\u001b[1;33m)\u001b[0m\u001b[1;33m)\u001b[0m\u001b[1;33m\u001b[0m\u001b[1;33m\u001b[0m\u001b[0m\n\u001b[0m",
      "\u001b[1;31mNameError\u001b[0m: name 'delta' is not defined"
     ]
    }
   ],
   "source": [
    "print(Solver(data, crew, delta, ideal).solve())"
   ]
  },
  {
   "cell_type": "code",
   "execution_count": null,
   "metadata": {},
   "outputs": [],
   "source": []
  }
 ],
 "metadata": {
  "kernelspec": {
   "display_name": "Python 3",
   "language": "python",
   "name": "python3"
  },
  "language_info": {
   "codemirror_mode": {
    "name": "ipython",
    "version": 3
   },
   "file_extension": ".py",
   "mimetype": "text/x-python",
   "name": "python",
   "nbconvert_exporter": "python",
   "pygments_lexer": "ipython3",
   "version": "3.8.3"
  }
 },
 "nbformat": 4,
 "nbformat_minor": 4
}
