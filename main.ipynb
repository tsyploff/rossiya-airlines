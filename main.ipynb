{
 "cells": [
  {
   "cell_type": "markdown",
   "metadata": {},
   "source": [
    "# Авиакомпания Россия"
   ]
  },
  {
   "cell_type": "markdown",
   "metadata": {},
   "source": [
    "## Рабочая зона Сони"
   ]
  },
  {
   "cell_type": "code",
   "execution_count": null,
   "metadata": {},
   "outputs": [],
   "source": [
    "import pandas as pd\n",
    "import numpy as np"
   ]
  },
  {
   "cell_type": "code",
   "execution_count": null,
   "metadata": {},
   "outputs": [],
   "source": [
    "data = pd.read_excel('ID.xls')\n",
    "data.head()"
   ]
  },
  {
   "cell_type": "code",
   "execution_count": null,
   "metadata": {},
   "outputs": [],
   "source": [
    "solution = pd.read_excel('Expert.xls')\n",
    "solution.head()"
   ]
  },
  {
   "cell_type": "code",
   "execution_count": null,
   "metadata": {},
   "outputs": [],
   "source": [
    "flight = data.iloc[0]\n",
    "flight"
   ]
  },
  {
   "cell_type": "code",
   "execution_count": null,
   "metadata": {},
   "outputs": [],
   "source": [
    "night_start = '22:00'\n",
    "night_end = '6:00'"
   ]
  },
  {
   "cell_type": "code",
   "execution_count": null,
   "metadata": {},
   "outputs": [],
   "source": [
    "start = flight['Время вылета']\n",
    "duration = flight['Налет']"
   ]
  },
  {
   "cell_type": "code",
   "execution_count": null,
   "metadata": {},
   "outputs": [],
   "source": [
    "def sum_time(start, duration):\n",
    "    st = list(map(lambda x: int(x), start.split(':')))\n",
    "    dur = list(map(lambda x: int(x), duration.split(':')))\n",
    "    a = [st[0] + dur[0],st[1] + dur[1]]\n",
    "    if a[1]>= 60:\n",
    "        a[0] += 1\n",
    "        a[1] -= 60\n",
    "    if a[0]>=24:\n",
    "        a[0] -= 24\n",
    "    return str(a[0])+':'+str(a[1])"
   ]
  },
  {
   "cell_type": "code",
   "execution_count": null,
   "metadata": {},
   "outputs": [],
   "source": [
    "def in_minuts(duration):\n",
    "    dur  = np.array(list(map(lambda x: int(x), duration.split(':'))))\n",
    "    return dur[0]*60 + dur[1]"
   ]
  },
  {
   "cell_type": "code",
   "execution_count": null,
   "metadata": {},
   "outputs": [],
   "source": [
    "def in_hours(minuts):\n",
    "    h = int(minuts // 60)\n",
    "    m = int(minuts % 60)\n",
    "    if h < 10:\n",
    "        h = '0'+ str(h)\n",
    "    else:\n",
    "        h = str(h)\n",
    "    if m < 10:\n",
    "        m = '0'+ str(m)\n",
    "    else:\n",
    "        m = str(m)\n",
    "    return h + ':' + m"
   ]
  },
  {
   "cell_type": "code",
   "execution_count": null,
   "metadata": {},
   "outputs": [],
   "source": [
    "def find_night_minuts(fligt_time):\n",
    "    night_h1 = list(map(lambda x: in_minuts(x), ['00:00','06:00']))\n",
    "    night_h2 = list(map(lambda x: in_minuts(x), ['22:00','23:59']))\n",
    "    f = list(map(lambda x: in_minuts(x), fligt_time))\n",
    "    delta = 0\n",
    "\n",
    "    if f[0] < night_h1[1]:\n",
    "        if f[1] < night_h1[1]: # весь полёт попал в первую половину ночи\n",
    "            delta += f[1] - f[0] # Длительность полёта в минутах\n",
    "        else:\n",
    "            delta += 6*60 - f[0] \n",
    "    elif f[0] > night_h1[1] and f[0] < night_h2[0]:\n",
    "        if f[1] > night_h1[1] and f[1] < night_h2[0]:\n",
    "            if f[0] < f[1]:\n",
    "                delta += 0  #дневное время\n",
    "            else:\n",
    "                delta += night_h1[1] + night_h2[1] - night_h2[0] + 1#очень длинный перелёт\n",
    "\n",
    "        elif f[1] > night_h2[0] and f[1] < night_h2[1]:\n",
    "            delta += f[1] - night_h2[0] #часть полёта в вечернее время\n",
    "\n",
    "        elif f[1] > night_h1[0] and f[1] < night_h1[1]:\n",
    "            delta += f[1] + night_h2[1] - night_h2[0] + 1\n",
    "\n",
    "    elif f[0] > night_h2[0]:\n",
    "        if f[1] > night_h2[0] and f[1] < night_h2[1]:\n",
    "            delta += f[1]-f[0]\n",
    "        elif f[1] < night_h1[1]: \n",
    "            delta += night_h2[1] - f[0] + f[1] + 1\n",
    "        elif f[1] > night_h1[1] and f[1] < night_h2[0]:\n",
    "            delta += night_h2[1] - f[0] + night_h1[1] + 1\n",
    "\n",
    "    return delta    "
   ]
  },
  {
   "cell_type": "code",
   "execution_count": null,
   "metadata": {},
   "outputs": [],
   "source": [
    "def night_percent(start, duration): # start и duration 'hh:mm'\n",
    "    d0 = in_minuts(duration)\n",
    "    d = in_hours(d0/2)\n",
    "    t = sum_time(start, d)\n",
    "    h1 = [start, t]\n",
    "    t = sum_time(t, '01:30')\n",
    "    h2 = [t, sum_time(t,d)]\n",
    "    return (find_night_minuts(h1) + find_night_minuts(h2))/d0"
   ]
  },
  {
   "cell_type": "code",
   "execution_count": null,
   "metadata": {},
   "outputs": [],
   "source": [
    "def is_night_flight(flight):\n",
    "    start = flight['Время вылета']\n",
    "    duration = flight['Налет']\n",
    "    n_pc = night_percent(start, duration)\n",
    "    if n_pc > 0.5:\n",
    "        return True\n",
    "    else:\n",
    "        return False"
   ]
  },
  {
   "cell_type": "code",
   "execution_count": null,
   "metadata": {},
   "outputs": [],
   "source": [
    "is_night_flight(flight)"
   ]
  },
  {
   "cell_type": "markdown",
   "metadata": {},
   "source": [
    "## Рабочая зона Лёши"
   ]
  },
  {
   "cell_type": "code",
   "execution_count": 1,
   "metadata": {},
   "outputs": [],
   "source": [
    "import pandas as pd\n",
    "import numpy as np\n",
    "\n",
    "import json\n",
    "\n",
    "from time import time\n",
    "\n",
    "from russiya_airlines_solver import algorithm_A2"
   ]
  },
  {
   "cell_type": "code",
   "execution_count": 2,
   "metadata": {},
   "outputs": [],
   "source": [
    "with open(\"ideal.json\", \"r\") as file:\n",
    "    ideal = np.array(json.loads(file.read()))\n",
    "    \n",
    "with open(\"delta.json\", \"r\") as file:\n",
    "    delta = np.array(json.loads(file.read()))\n",
    "    \n",
    "weights = np.ones(ideal.shape[0]) / ideal.shape[0]"
   ]
  },
  {
   "cell_type": "code",
   "execution_count": 3,
   "metadata": {},
   "outputs": [
    {
     "name": "stdout",
     "output_type": "stream",
     "text": [
      "Время работы функции:\t0.3850 сек\n",
      "\n",
      "Значение целевой функции:\t3.94\n"
     ]
    }
   ],
   "source": [
    "value, dist = algorithm_A2(delta, weights, ideal)\n",
    "print('\\nЗначение целевой функции:\\t{:.2f}'.format(value))"
   ]
  },
  {
   "cell_type": "code",
   "execution_count": 4,
   "metadata": {},
   "outputs": [
    {
     "name": "stdout",
     "output_type": "stream",
     "text": [
      "\n",
      "Количество связок на 1-ом рабочем столе: 352\n",
      "\n",
      "Количество связок на 2-ом рабочем столе: 352\n",
      "\n",
      "Количество связок на 3-ом рабочем столе: 360\n",
      "\n",
      "Количество связок на 4-ом рабочем столе: 357\n",
      "\n",
      "Количество связок на 5-ом рабочем столе: 352\n",
      "\n",
      "Количество связок на 6-ом рабочем столе: 362\n"
     ]
    }
   ],
   "source": [
    "for k in range(len(dist)):\n",
    "    print('\\nКоличество связок на {}-ом рабочем столе: {}'.format(k + 1, len(dist[k])))"
   ]
  }
 ],
 "metadata": {
  "kernelspec": {
   "display_name": "Python 3",
   "language": "python",
   "name": "python3"
  },
  "language_info": {
   "codemirror_mode": {
    "name": "ipython",
    "version": 3
   },
   "file_extension": ".py",
   "mimetype": "text/x-python",
   "name": "python",
   "nbconvert_exporter": "python",
   "pygments_lexer": "ipython3",
   "version": "3.7.6"
  }
 },
 "nbformat": 4,
 "nbformat_minor": 4
}
