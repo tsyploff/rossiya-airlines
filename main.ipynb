{
 "cells": [
  {
   "cell_type": "markdown",
   "metadata": {},
   "source": [
    "# Авиакомпания Россия"
   ]
  },
  {
   "cell_type": "code",
   "execution_count": 1,
   "metadata": {},
   "outputs": [],
   "source": [
    "import pandas as pd\n",
    "import numpy as np"
   ]
  },
  {
   "cell_type": "code",
   "execution_count": 2,
   "metadata": {},
   "outputs": [
    {
     "data": {
      "text/html": [
       "<div>\n",
       "<style scoped>\n",
       "    .dataframe tbody tr th:only-of-type {\n",
       "        vertical-align: middle;\n",
       "    }\n",
       "\n",
       "    .dataframe tbody tr th {\n",
       "        vertical-align: top;\n",
       "    }\n",
       "\n",
       "    .dataframe thead th {\n",
       "        text-align: right;\n",
       "    }\n",
       "</style>\n",
       "<table border=\"1\" class=\"dataframe\">\n",
       "  <thead>\n",
       "    <tr style=\"text-align: right;\">\n",
       "      <th></th>\n",
       "      <th>День месяца</th>\n",
       "      <th>Время вылета</th>\n",
       "      <th>Связка</th>\n",
       "      <th>Назначение</th>\n",
       "      <th>Тип судна</th>\n",
       "      <th>Тип связи</th>\n",
       "      <th>Налет</th>\n",
       "      <th>Экипаж</th>\n",
       "    </tr>\n",
       "  </thead>\n",
       "  <tbody>\n",
       "    <tr>\n",
       "      <th>0</th>\n",
       "      <td>1</td>\n",
       "      <td>02:55</td>\n",
       "      <td>route 1</td>\n",
       "      <td>city 61</td>\n",
       "      <td>А-320</td>\n",
       "      <td>ВВЛ</td>\n",
       "      <td>10:50</td>\n",
       "      <td>4</td>\n",
       "    </tr>\n",
       "    <tr>\n",
       "      <th>1</th>\n",
       "      <td>1</td>\n",
       "      <td>03:55</td>\n",
       "      <td>route 2</td>\n",
       "      <td>city 60</td>\n",
       "      <td>А-320</td>\n",
       "      <td>МВЛ</td>\n",
       "      <td>06:00</td>\n",
       "      <td>4</td>\n",
       "    </tr>\n",
       "    <tr>\n",
       "      <th>2</th>\n",
       "      <td>1</td>\n",
       "      <td>04:10</td>\n",
       "      <td>route 3</td>\n",
       "      <td>city 23</td>\n",
       "      <td>А-319</td>\n",
       "      <td>ВВЛ</td>\n",
       "      <td>03:00</td>\n",
       "      <td>3</td>\n",
       "    </tr>\n",
       "    <tr>\n",
       "      <th>3</th>\n",
       "      <td>1</td>\n",
       "      <td>04:40</td>\n",
       "      <td>route 4</td>\n",
       "      <td>city 32</td>\n",
       "      <td>А-319</td>\n",
       "      <td>МВЛ</td>\n",
       "      <td>08:35</td>\n",
       "      <td>3</td>\n",
       "    </tr>\n",
       "    <tr>\n",
       "      <th>4</th>\n",
       "      <td>1</td>\n",
       "      <td>05:00</td>\n",
       "      <td>route 5</td>\n",
       "      <td>city 8</td>\n",
       "      <td>А-319</td>\n",
       "      <td>ВВЛ</td>\n",
       "      <td>06:15</td>\n",
       "      <td>3</td>\n",
       "    </tr>\n",
       "  </tbody>\n",
       "</table>\n",
       "</div>"
      ],
      "text/plain": [
       "   День месяца Время вылета   Связка Назначение Тип судна Тип связи  Налет  \\\n",
       "0            1        02:55  route 1    city 61    А-320        ВВЛ  10:50   \n",
       "1            1        03:55  route 2    city 60    А-320        МВЛ  06:00   \n",
       "2            1        04:10  route 3    city 23    А-319        ВВЛ  03:00   \n",
       "3            1        04:40  route 4    city 32    А-319        МВЛ  08:35   \n",
       "4            1        05:00  route 5     city 8    А-319        ВВЛ  06:15   \n",
       "\n",
       "   Экипаж  \n",
       "0       4  \n",
       "1       4  \n",
       "2       3  \n",
       "3       3  \n",
       "4       3  "
      ]
     },
     "execution_count": 2,
     "metadata": {},
     "output_type": "execute_result"
    }
   ],
   "source": [
    "data = pd.read_excel('ID.xls')\n",
    "data.head()"
   ]
  },
  {
   "cell_type": "code",
   "execution_count": 3,
   "metadata": {},
   "outputs": [
    {
     "data": {
      "text/html": [
       "<div>\n",
       "<style scoped>\n",
       "    .dataframe tbody tr th:only-of-type {\n",
       "        vertical-align: middle;\n",
       "    }\n",
       "\n",
       "    .dataframe tbody tr th {\n",
       "        vertical-align: top;\n",
       "    }\n",
       "\n",
       "    .dataframe thead th {\n",
       "        text-align: right;\n",
       "    }\n",
       "</style>\n",
       "<table border=\"1\" class=\"dataframe\">\n",
       "  <thead>\n",
       "    <tr style=\"text-align: right;\">\n",
       "      <th></th>\n",
       "      <th>Связка</th>\n",
       "      <th>Вылет</th>\n",
       "      <th>Тип</th>\n",
       "      <th>1</th>\n",
       "      <th>2</th>\n",
       "      <th>3</th>\n",
       "      <th>4</th>\n",
       "      <th>5</th>\n",
       "      <th>6</th>\n",
       "      <th>7</th>\n",
       "      <th>...</th>\n",
       "      <th>22</th>\n",
       "      <th>23</th>\n",
       "      <th>24</th>\n",
       "      <th>25</th>\n",
       "      <th>26</th>\n",
       "      <th>27</th>\n",
       "      <th>28</th>\n",
       "      <th>29</th>\n",
       "      <th>30</th>\n",
       "      <th>31</th>\n",
       "    </tr>\n",
       "  </thead>\n",
       "  <tbody>\n",
       "    <tr>\n",
       "      <th>0</th>\n",
       "      <td>NaN</td>\n",
       "      <td>NaN</td>\n",
       "      <td>ВС</td>\n",
       "      <td>СБ</td>\n",
       "      <td>ВС</td>\n",
       "      <td>ПН</td>\n",
       "      <td>ВТ</td>\n",
       "      <td>СР</td>\n",
       "      <td>ЧТ</td>\n",
       "      <td>ПТ</td>\n",
       "      <td>...</td>\n",
       "      <td>СБ</td>\n",
       "      <td>ВС</td>\n",
       "      <td>ПН</td>\n",
       "      <td>ВТ</td>\n",
       "      <td>СР</td>\n",
       "      <td>ЧТ</td>\n",
       "      <td>ПТ</td>\n",
       "      <td>СБ</td>\n",
       "      <td>ВС</td>\n",
       "      <td>ПН</td>\n",
       "    </tr>\n",
       "    <tr>\n",
       "      <th>1</th>\n",
       "      <td>route 8</td>\n",
       "      <td>05:10</td>\n",
       "      <td>А 320</td>\n",
       "      <td>2</td>\n",
       "      <td>2</td>\n",
       "      <td>5</td>\n",
       "      <td>2</td>\n",
       "      <td>2</td>\n",
       "      <td>3</td>\n",
       "      <td>1</td>\n",
       "      <td>...</td>\n",
       "      <td>6</td>\n",
       "      <td>4</td>\n",
       "      <td>2</td>\n",
       "      <td>6</td>\n",
       "      <td>6</td>\n",
       "      <td>5</td>\n",
       "      <td>2</td>\n",
       "      <td>5</td>\n",
       "      <td>5</td>\n",
       "      <td>3</td>\n",
       "    </tr>\n",
       "    <tr>\n",
       "      <th>2</th>\n",
       "      <td>route 28</td>\n",
       "      <td>11:20</td>\n",
       "      <td>А 319</td>\n",
       "      <td>6</td>\n",
       "      <td>4</td>\n",
       "      <td>6</td>\n",
       "      <td>1</td>\n",
       "      <td>5</td>\n",
       "      <td>5</td>\n",
       "      <td>3</td>\n",
       "      <td>...</td>\n",
       "      <td>6</td>\n",
       "      <td>4</td>\n",
       "      <td>1</td>\n",
       "      <td>2</td>\n",
       "      <td>3</td>\n",
       "      <td>4</td>\n",
       "      <td>5</td>\n",
       "      <td>5</td>\n",
       "      <td>5</td>\n",
       "      <td>2</td>\n",
       "    </tr>\n",
       "    <tr>\n",
       "      <th>3</th>\n",
       "      <td>route 66</td>\n",
       "      <td>22:45</td>\n",
       "      <td>А 319</td>\n",
       "      <td>5</td>\n",
       "      <td>3</td>\n",
       "      <td>1</td>\n",
       "      <td>4</td>\n",
       "      <td>3</td>\n",
       "      <td>2</td>\n",
       "      <td>1</td>\n",
       "      <td>...</td>\n",
       "      <td>4</td>\n",
       "      <td>3</td>\n",
       "      <td>5</td>\n",
       "      <td>6</td>\n",
       "      <td>4</td>\n",
       "      <td>1</td>\n",
       "      <td>2</td>\n",
       "      <td>3</td>\n",
       "      <td>4</td>\n",
       "      <td>6</td>\n",
       "    </tr>\n",
       "    <tr>\n",
       "      <th>4</th>\n",
       "      <td>route 31</td>\n",
       "      <td>11:55</td>\n",
       "      <td>А 319</td>\n",
       "      <td>NaN</td>\n",
       "      <td>NaN</td>\n",
       "      <td>4</td>\n",
       "      <td>3</td>\n",
       "      <td>4</td>\n",
       "      <td>1</td>\n",
       "      <td>5</td>\n",
       "      <td>...</td>\n",
       "      <td>NaN</td>\n",
       "      <td>NaN</td>\n",
       "      <td>4</td>\n",
       "      <td>5</td>\n",
       "      <td>1</td>\n",
       "      <td>2</td>\n",
       "      <td>4</td>\n",
       "      <td>NaN</td>\n",
       "      <td>NaN</td>\n",
       "      <td>1</td>\n",
       "    </tr>\n",
       "  </tbody>\n",
       "</table>\n",
       "<p>5 rows × 34 columns</p>\n",
       "</div>"
      ],
      "text/plain": [
       "     Связка  Вылет    Тип    1    2    3    4    5    6    7  ...   22   23  \\\n",
       "0       NaN    NaN     ВС  СБ   ВС   ПН   ВТ   СР   ЧТ   ПТ   ...  СБ   ВС    \n",
       "1   route 8  05:10  А 320    2    2    5    2    2    3    1  ...    6    4   \n",
       "2  route 28  11:20  А 319    6    4    6    1    5    5    3  ...    6    4   \n",
       "3  route 66  22:45  А 319    5    3    1    4    3    2    1  ...    4    3   \n",
       "4  route 31  11:55  А 319  NaN  NaN    4    3    4    1    5  ...  NaN  NaN   \n",
       "\n",
       "    24   25   26   27   28   29   30   31  \n",
       "0  ПН   ВТ   СР   ЧТ   ПТ   СБ   ВС   ПН   \n",
       "1    2    6    6    5    2    5    5    3  \n",
       "2    1    2    3    4    5    5    5    2  \n",
       "3    5    6    4    1    2    3    4    6  \n",
       "4    4    5    1    2    4  NaN  NaN    1  \n",
       "\n",
       "[5 rows x 34 columns]"
      ]
     },
     "execution_count": 3,
     "metadata": {},
     "output_type": "execute_result"
    }
   ],
   "source": [
    "solution = pd.read_excel('Expert.xls')\n",
    "solution.head()"
   ]
  },
  {
   "cell_type": "markdown",
   "metadata": {},
   "source": [
    "## Рабочая зона Сони"
   ]
  },
  {
   "cell_type": "code",
   "execution_count": null,
   "metadata": {},
   "outputs": [],
   "source": [
    "flight = data.iloc[0]\n",
    "flight"
   ]
  },
  {
   "cell_type": "code",
   "execution_count": null,
   "metadata": {},
   "outputs": [],
   "source": [
    "night_start = '22:00'\n",
    "night_end = '6:00'"
   ]
  },
  {
   "cell_type": "code",
   "execution_count": null,
   "metadata": {},
   "outputs": [],
   "source": [
    "start = flight['Время вылета']\n",
    "duration = flight['Налет']"
   ]
  },
  {
   "cell_type": "code",
   "execution_count": null,
   "metadata": {},
   "outputs": [],
   "source": [
    "def sum_time(start, duration):\n",
    "    st = list(map(lambda x: int(x), start.split(':')))\n",
    "    dur = list(map(lambda x: int(x), duration.split(':')))\n",
    "    a = [st[0] + dur[0],st[1] + dur[1]]\n",
    "    if a[1]>= 60:\n",
    "        a[0] += 1\n",
    "        a[1] -= 60\n",
    "    if a[0]>=24:\n",
    "        a[0] -= 24\n",
    "    return str(a[0])+':'+str(a[1])"
   ]
  },
  {
   "cell_type": "code",
   "execution_count": null,
   "metadata": {},
   "outputs": [],
   "source": [
    "def in_minuts(duration):\n",
    "    dur  = np.array(list(map(lambda x: int(x), duration.split(':'))))\n",
    "    return dur[0]*60 + dur[1]"
   ]
  },
  {
   "cell_type": "code",
   "execution_count": null,
   "metadata": {},
   "outputs": [],
   "source": [
    "def in_hours(minuts):\n",
    "    h = int(minuts // 60)\n",
    "    m = int(minuts % 60)\n",
    "    if h < 10:\n",
    "        h = '0'+ str(h)\n",
    "    else:\n",
    "        h = str(h)\n",
    "    if m < 10:\n",
    "        m = '0'+ str(m)\n",
    "    else:\n",
    "        m = str(m)\n",
    "    return h + ':' + m"
   ]
  },
  {
   "cell_type": "code",
   "execution_count": null,
   "metadata": {},
   "outputs": [],
   "source": [
    "def find_night_minuts(fligt_time):\n",
    "    night_h1 = list(map(lambda x: in_minuts(x), ['00:00','06:00']))\n",
    "    night_h2 = list(map(lambda x: in_minuts(x), ['22:00','23:59']))\n",
    "    f = list(map(lambda x: in_minuts(x), fligt_time))\n",
    "    delta = 0\n",
    "\n",
    "    if f[0] < night_h1[1]:\n",
    "        if f[1] < night_h1[1]: # весь полёт попал в первую половину ночи\n",
    "            delta += f[1] - f[0] # Длительность полёта в минутах\n",
    "        else:\n",
    "            delta += 6*60 - f[0] \n",
    "    elif f[0] > night_h1[1] and f[0] < night_h2[0]:\n",
    "        if f[1] > night_h1[1] and f[1] < night_h2[0]:\n",
    "            if f[0] < f[1]:\n",
    "                delta += 0  #дневное время\n",
    "            else:\n",
    "                delta += night_h1[1] + night_h2[1] - night_h2[0] + 1#очень длинный перелёт\n",
    "\n",
    "        elif f[1] > night_h2[0] and f[1] < night_h2[1]:\n",
    "            delta += f[1] - night_h2[0] #часть полёта в вечернее время\n",
    "\n",
    "        elif f[1] > night_h1[0] and f[1] < night_h1[1]:\n",
    "            delta += f[1] + night_h2[1] - night_h2[0] + 1\n",
    "\n",
    "    elif f[0] > night_h2[0]:\n",
    "        if f[1] > night_h2[0] and f[1] < night_h2[1]:\n",
    "            delta += f[1]-f[0]\n",
    "        elif f[1] < night_h1[1]: \n",
    "            delta += night_h2[1] - f[0] + f[1] + 1\n",
    "        elif f[1] > night_h1[1] and f[1] < night_h2[0]:\n",
    "            delta += night_h2[1] - f[0] + night_h1[1] + 1\n",
    "\n",
    "    return delta    "
   ]
  },
  {
   "cell_type": "code",
   "execution_count": null,
   "metadata": {},
   "outputs": [],
   "source": [
    "def night_percent(start, duration): # start и duration 'hh:mm'\n",
    "    d0 = in_minuts(duration)\n",
    "    d = in_hours(d0/2)\n",
    "    t = sum_time(start, d)\n",
    "    h1 = [start, t]\n",
    "    t = sum_time(t, '01:30')\n",
    "    h2 = [t, sum_time(t,d)]\n",
    "    return (find_night_minuts(h1) + find_night_minuts(h2))/d0"
   ]
  },
  {
   "cell_type": "code",
   "execution_count": null,
   "metadata": {},
   "outputs": [],
   "source": [
    "def is_night_flight(flight):\n",
    "    start = flight['Время вылета']\n",
    "    duration = flight['Налет']\n",
    "    n_pc = night_percent(start, duration)\n",
    "    if n_pc > 0.5:\n",
    "        return True\n",
    "    else:\n",
    "        return False"
   ]
  },
  {
   "cell_type": "code",
   "execution_count": null,
   "metadata": {},
   "outputs": [],
   "source": [
    "is_night_flight(flight)"
   ]
  },
  {
   "cell_type": "markdown",
   "metadata": {},
   "source": [
    "## Рабочая зона Лёши"
   ]
  },
  {
   "cell_type": "markdown",
   "metadata": {},
   "source": [
    "### Импорт и обработка данных"
   ]
  },
  {
   "cell_type": "code",
   "execution_count": null,
   "metadata": {},
   "outputs": [],
   "source": [
    "from time import time\n",
    "\n",
    "from russiya_airlines_import import read_ideal_values, read_delta"
   ]
  },
  {
   "cell_type": "code",
   "execution_count": null,
   "metadata": {},
   "outputs": [],
   "source": [
    "crew = pd.read_json('crew.json')\n",
    "crew.head()"
   ]
  },
  {
   "cell_type": "code",
   "execution_count": 6,
   "metadata": {},
   "outputs": [
    {
     "name": "stdout",
     "output_type": "stream",
     "text": [
      "Время работы функции read_ideal_values:\t0.93 сек\n",
      "\n",
      "Завершён этап препроцессинга\n",
      "\n",
      "Завершён этап создания перестановок\n",
      "\n",
      "Рассчитан первый критерий\n",
      "\n",
      "Рассчитан второй критерий\n",
      "\n",
      "Рассчитан третий критерий\n",
      "\n",
      "Рассчитан четвёртый критерий\n",
      "\n",
      "Рассчитан пятый критерий\n",
      "\n",
      "Рассчитан шестой критерий\n",
      "\n",
      "Рассчитан седьмой критерий\n",
      "\n",
      "Завершена конкатенация\n",
      "\n",
      "Время работы функции read_delta:\t253.09 сек\n"
     ]
    }
   ],
   "source": [
    "duration = time()\n",
    "ideal = read_ideal_values(data, crew)\n",
    "duration = time() - duration\n",
    "print('Время работы функции read_ideal_values:\\t{:.2f} сек'.format(duration))\n",
    "\n",
    "duration = time()\n",
    "delta = read_delta(data, crew)\n",
    "duration = time() - duration\n",
    "print('\\nВремя работы функции read_delta:\\t{:.2f} сек'.format(duration))"
   ]
  },
  {
   "cell_type": "code",
   "execution_count": null,
   "metadata": {},
   "outputs": [],
   "source": [
    "import json"
   ]
  },
  {
   "cell_type": "code",
   "execution_count": null,
   "metadata": {},
   "outputs": [],
   "source": [
    "with open(\"ideal.json\", \"w\") as file:\n",
    "    file.write(json.dumps([list(row) for row in ideal]))"
   ]
  },
  {
   "cell_type": "code",
   "execution_count": null,
   "metadata": {},
   "outputs": [],
   "source": [
    "with open(\"delta.json\", \"w\") as file:\n",
    "    file.write(json.dumps([[list(row) for row in array] for array in delta]))"
   ]
  },
  {
   "cell_type": "markdown",
   "metadata": {},
   "source": [
    "### Алгоритмы"
   ]
  },
  {
   "cell_type": "code",
   "execution_count": 1,
   "metadata": {},
   "outputs": [],
   "source": [
    "import pandas as pd\n",
    "import numpy as np\n",
    "\n",
    "import json\n",
    "\n",
    "from russiya_airlines_solver import algorithm_A1"
   ]
  },
  {
   "cell_type": "code",
   "execution_count": 2,
   "metadata": {},
   "outputs": [],
   "source": [
    "with open(\"ideal.json\", \"r\") as file:\n",
    "    ideal = np.array(json.loads(file.read()))\n",
    "    \n",
    "with open(\"delta.json\", \"r\") as file:\n",
    "    delta = np.array(json.loads(file.read()))\n",
    "    \n",
    "weights = np.ones(ideal.shape[0]) / ideal.shape[0]"
   ]
  },
  {
   "cell_type": "code",
   "execution_count": 3,
   "metadata": {},
   "outputs": [
    {
     "name": "stdout",
     "output_type": "stream",
     "text": [
      "____________________________________________________________________________________________________\n",
      "Шаг #100 \n",
      "Текущее значение целевой функции:\t5.68 \n",
      "Прошло времени:\t33.80 сек\n",
      "____________________________________________________________________________________________________\n",
      "Шаг #200 \n",
      "Текущее значение целевой функции:\t5.50 \n",
      "Прошло времени:\t65.35 сек\n",
      "____________________________________________________________________________________________________\n",
      "Шаг #300 \n",
      "Текущее значение целевой функции:\t5.34 \n",
      "Прошло времени:\t95.56 сек\n",
      "____________________________________________________________________________________________________\n",
      "Шаг #400 \n",
      "Текущее значение целевой функции:\t5.20 \n",
      "Прошло времени:\t124.15 сек\n",
      "____________________________________________________________________________________________________\n",
      "Шаг #500 \n",
      "Текущее значение целевой функции:\t5.06 \n",
      "Прошло времени:\t150.68 сек\n",
      "____________________________________________________________________________________________________\n",
      "Шаг #600 \n",
      "Текущее значение целевой функции:\t4.94 \n",
      "Прошло времени:\t176.03 сек\n",
      "____________________________________________________________________________________________________\n",
      "Шаг #700 \n",
      "Текущее значение целевой функции:\t4.82 \n",
      "Прошло времени:\t199.60 сек\n",
      "____________________________________________________________________________________________________\n",
      "Шаг #800 \n",
      "Текущее значение целевой функции:\t4.72 \n",
      "Прошло времени:\t221.88 сек\n",
      "____________________________________________________________________________________________________\n",
      "Шаг #900 \n",
      "Текущее значение целевой функции:\t4.62 \n",
      "Прошло времени:\t242.39 сек\n",
      "____________________________________________________________________________________________________\n",
      "Шаг #1000 \n",
      "Текущее значение целевой функции:\t4.53 \n",
      "Прошло времени:\t261.90 сек\n",
      "____________________________________________________________________________________________________\n",
      "Шаг #1100 \n",
      "Текущее значение целевой функции:\t4.45 \n",
      "Прошло времени:\t279.43 сек\n",
      "____________________________________________________________________________________________________\n",
      "Шаг #1200 \n",
      "Текущее значение целевой функции:\t4.38 \n",
      "Прошло времени:\t295.21 сек\n",
      "____________________________________________________________________________________________________\n",
      "Шаг #1300 \n",
      "Текущее значение целевой функции:\t4.32 \n",
      "Прошло времени:\t309.89 сек\n",
      "____________________________________________________________________________________________________\n",
      "Шаг #1400 \n",
      "Текущее значение целевой функции:\t4.26 \n",
      "Прошло времени:\t322.40 сек\n",
      "____________________________________________________________________________________________________\n",
      "Шаг #1500 \n",
      "Текущее значение целевой функции:\t4.20 \n",
      "Прошло времени:\t333.50 сек\n",
      "____________________________________________________________________________________________________\n",
      "Шаг #1600 \n",
      "Текущее значение целевой функции:\t4.16 \n",
      "Прошло времени:\t343.25 сек\n",
      "____________________________________________________________________________________________________\n",
      "Шаг #1700 \n",
      "Текущее значение целевой функции:\t4.11 \n",
      "Прошло времени:\t351.28 сек\n",
      "____________________________________________________________________________________________________\n",
      "Шаг #1800 \n",
      "Текущее значение целевой функции:\t4.07 \n",
      "Прошло времени:\t357.55 сек\n",
      "____________________________________________________________________________________________________\n",
      "Шаг #1900 \n",
      "Текущее значение целевой функции:\t4.03 \n",
      "Прошло времени:\t362.19 сек\n",
      "____________________________________________________________________________________________________\n",
      "Шаг #2000 \n",
      "Текущее значение целевой функции:\t3.99 \n",
      "Прошло времени:\t365.27 сек\n",
      "____________________________________________________________________________________________________\n",
      "Шаг #2100 \n",
      "Текущее значение целевой функции:\t3.95 \n",
      "Прошло времени:\t366.67 сек\n",
      "___________________________________\n",
      "Время работы функции:\t366.7825 сек\n"
     ]
    },
    {
     "ename": "NameError",
     "evalue": "name 'K' is not defined",
     "output_type": "error",
     "traceback": [
      "\u001b[1;31m---------------------------------------------------------------------------\u001b[0m",
      "\u001b[1;31mNameError\u001b[0m                                 Traceback (most recent call last)",
      "\u001b[1;32m<ipython-input-3-81b59b9697d1>\u001b[0m in \u001b[0;36m<module>\u001b[1;34m\u001b[0m\n\u001b[0;32m      1\u001b[0m \u001b[0mdist\u001b[0m \u001b[1;33m=\u001b[0m \u001b[0malgorithm_A1\u001b[0m\u001b[1;33m(\u001b[0m\u001b[0mdelta\u001b[0m\u001b[1;33m,\u001b[0m \u001b[0mweights\u001b[0m\u001b[1;33m,\u001b[0m \u001b[0mideal\u001b[0m\u001b[1;33m)\u001b[0m\u001b[1;33m\u001b[0m\u001b[1;33m\u001b[0m\u001b[0m\n\u001b[0;32m      2\u001b[0m \u001b[1;33m\u001b[0m\u001b[0m\n\u001b[1;32m----> 3\u001b[1;33m \u001b[1;32mfor\u001b[0m \u001b[0mk\u001b[0m \u001b[1;32min\u001b[0m \u001b[0mrange\u001b[0m\u001b[1;33m(\u001b[0m\u001b[0mK\u001b[0m\u001b[1;33m)\u001b[0m\u001b[1;33m:\u001b[0m\u001b[1;33m\u001b[0m\u001b[1;33m\u001b[0m\u001b[0m\n\u001b[0m\u001b[0;32m      4\u001b[0m     \u001b[0mprint\u001b[0m\u001b[1;33m(\u001b[0m\u001b[0mlen\u001b[0m\u001b[1;33m(\u001b[0m\u001b[0mdist\u001b[0m\u001b[1;33m[\u001b[0m\u001b[0mk\u001b[0m\u001b[1;33m]\u001b[0m\u001b[1;33m)\u001b[0m\u001b[1;33m)\u001b[0m\u001b[1;33m\u001b[0m\u001b[1;33m\u001b[0m\u001b[0m\n",
      "\u001b[1;31mNameError\u001b[0m: name 'K' is not defined"
     ]
    }
   ],
   "source": [
    "dist = algorithm_A1(delta, weights, ideal)"
   ]
  },
  {
   "cell_type": "code",
   "execution_count": 4,
   "metadata": {},
   "outputs": [
    {
     "name": "stdout",
     "output_type": "stream",
     "text": [
      "354\n",
      "346\n",
      "365\n",
      "357\n",
      "347\n",
      "366\n"
     ]
    }
   ],
   "source": [
    "for k in range(len(dist)):\n",
    "    print(len(dist[k]))"
   ]
  }
 ],
 "metadata": {
  "kernelspec": {
   "display_name": "Python 3",
   "language": "python",
   "name": "python3"
  },
  "language_info": {
   "codemirror_mode": {
    "name": "ipython",
    "version": 3
   },
   "file_extension": ".py",
   "mimetype": "text/x-python",
   "name": "python",
   "nbconvert_exporter": "python",
   "pygments_lexer": "ipython3",
   "version": "3.7.6"
  }
 },
 "nbformat": 4,
 "nbformat_minor": 4
}
