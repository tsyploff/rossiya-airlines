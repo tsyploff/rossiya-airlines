{
 "cells": [
  {
   "cell_type": "markdown",
   "metadata": {},
   "source": [
    "# Авиакомпания Россия"
   ]
  },
  {
   "cell_type": "markdown",
   "metadata": {},
   "source": [
    "## Рабочая зона Лёши"
   ]
  },
  {
   "cell_type": "markdown",
   "metadata": {},
   "source": [
    "Импорт библиотек"
   ]
  },
  {
   "cell_type": "code",
   "execution_count": null,
   "metadata": {},
   "outputs": [],
   "source": [
    "import pandas as pd\n",
    "import numpy as np"
   ]
  },
  {
   "cell_type": "code",
   "execution_count": null,
   "metadata": {},
   "outputs": [],
   "source": [
    "from russiya_airlines_solver import Solver\n",
    "from russiya_airlines_interface import data_setting"
   ]
  },
  {
   "cell_type": "markdown",
   "metadata": {},
   "source": [
    "Импорт исходных данных, который мы заслужили. При запуске ячейки должно открыться окно `tkinter` с интуитивным интерфейсом для импорта исходных данных. Данные о связках передаются в формате `XLS`. Данные о книгах передаются в формате `JSON`. Это **ВАЖНО!!!**"
   ]
  },
  {
   "cell_type": "code",
   "execution_count": null,
   "metadata": {},
   "outputs": [],
   "source": [
    "data, crew = data_setting()\n",
    "print('Данные о книгах:\\n', crew)\n",
    "print('\\nДанные о связках:\\n')\n",
    "data.head(5)"
   ]
  },
  {
   "cell_type": "markdown",
   "metadata": {},
   "source": [
    "При запуске последовательно откроются два окна `tkinter`. В первом необходимо выбрать алгоритм и сортировку (рекомендуется выбирать A2, S1). Во втором задать веса критериев. По умолчанию все веса равны. Веса автоматически нормируются. "
   ]
  },
  {
   "cell_type": "code",
   "execution_count": null,
   "metadata": {
    "scrolled": true
   },
   "outputs": [],
   "source": [
    "sol = Solver(data, crew) \n",
    "print(sol.solve())"
   ]
  },
  {
   "cell_type": "code",
   "execution_count": null,
   "metadata": {},
   "outputs": [],
   "source": [
    "identificator = 2\n",
    "print('Значение целевой функции: {:.2f}'.format(Solver.solutions[identificator][0]))\n",
    "for book in range(len(Solver.solutions[identificator][1])):\n",
    "    print('Число связок на {}-ом рабочем столе: {}'.format(book, len(Solver.solutions[identificator][1][book])))"
   ]
  },
  {
   "cell_type": "markdown",
   "metadata": {},
   "source": [
    "## Рабочая зона Сони"
   ]
  },
  {
   "cell_type": "code",
   "execution_count": null,
   "metadata": {},
   "outputs": [],
   "source": [
    "import pandas as pd\n",
    "import numpy as np"
   ]
  },
  {
   "cell_type": "code",
   "execution_count": null,
   "metadata": {},
   "outputs": [],
   "source": [
    "data = pd.read_excel('ID.xls')\n",
    "data.head()"
   ]
  },
  {
   "cell_type": "code",
   "execution_count": null,
   "metadata": {},
   "outputs": [],
   "source": [
    "solution = pd.read_excel('Expert.xls')\n",
    "solution.head()"
   ]
  },
  {
   "cell_type": "code",
   "execution_count": null,
   "metadata": {},
   "outputs": [],
   "source": [
    "flight = data.iloc[0]\n",
    "flight"
   ]
  },
  {
   "cell_type": "code",
   "execution_count": null,
   "metadata": {},
   "outputs": [],
   "source": [
    "night_start = '22:00'\n",
    "night_end = '6:00'"
   ]
  },
  {
   "cell_type": "code",
   "execution_count": null,
   "metadata": {},
   "outputs": [],
   "source": [
    "start = flight['Время вылета']\n",
    "duration = flight['Налет']"
   ]
  },
  {
   "cell_type": "code",
   "execution_count": null,
   "metadata": {},
   "outputs": [],
   "source": [
    "def sum_time(start, duration):\n",
    "    st = list(map(lambda x: int(x), start.split(':')))\n",
    "    dur = list(map(lambda x: int(x), duration.split(':')))\n",
    "    a = [st[0] + dur[0],st[1] + dur[1]]\n",
    "    if a[1]>= 60:\n",
    "        a[0] += 1\n",
    "        a[1] -= 60\n",
    "    if a[0]>=24:\n",
    "        a[0] -= 24\n",
    "    return str(a[0])+':'+str(a[1])"
   ]
  },
  {
   "cell_type": "code",
   "execution_count": null,
   "metadata": {},
   "outputs": [],
   "source": [
    "def in_minuts(duration):\n",
    "    dur  = np.array(list(map(lambda x: int(x), duration.split(':'))))\n",
    "    return dur[0]*60 + dur[1]"
   ]
  },
  {
   "cell_type": "code",
   "execution_count": null,
   "metadata": {},
   "outputs": [],
   "source": [
    "def in_hours(minuts):\n",
    "    h = int(minuts // 60)\n",
    "    m = int(minuts % 60)\n",
    "    if h < 10:\n",
    "        h = '0'+ str(h)\n",
    "    else:\n",
    "        h = str(h)\n",
    "    if m < 10:\n",
    "        m = '0'+ str(m)\n",
    "    else:\n",
    "        m = str(m)\n",
    "    return h + ':' + m"
   ]
  },
  {
   "cell_type": "code",
   "execution_count": null,
   "metadata": {},
   "outputs": [],
   "source": [
    "def find_night_minuts(fligt_time):\n",
    "    night_h1 = list(map(lambda x: in_minuts(x), ['00:00','06:00']))\n",
    "    night_h2 = list(map(lambda x: in_minuts(x), ['22:00','23:59']))\n",
    "    f = list(map(lambda x: in_minuts(x), fligt_time))\n",
    "    delta = 0\n",
    "\n",
    "    if f[0] < night_h1[1]:\n",
    "        if f[1] < night_h1[1]: # весь полёт попал в первую половину ночи\n",
    "            delta += f[1] - f[0] # Длительность полёта в минутах\n",
    "        else:\n",
    "            delta += 6*60 - f[0] \n",
    "    elif f[0] > night_h1[1] and f[0] < night_h2[0]:\n",
    "        if f[1] > night_h1[1] and f[1] < night_h2[0]:\n",
    "            if f[0] < f[1]:\n",
    "                delta += 0  #дневное время\n",
    "            else:\n",
    "                delta += night_h1[1] + night_h2[1] - night_h2[0] + 1#очень длинный перелёт\n",
    "\n",
    "        elif f[1] > night_h2[0] and f[1] < night_h2[1]:\n",
    "            delta += f[1] - night_h2[0] #часть полёта в вечернее время\n",
    "\n",
    "        elif f[1] > night_h1[0] and f[1] < night_h1[1]:\n",
    "            delta += f[1] + night_h2[1] - night_h2[0] + 1\n",
    "\n",
    "    elif f[0] > night_h2[0]:\n",
    "        if f[1] > night_h2[0] and f[1] < night_h2[1]:\n",
    "            delta += f[1]-f[0]\n",
    "        elif f[1] < night_h1[1]: \n",
    "            delta += night_h2[1] - f[0] + f[1] + 1\n",
    "        elif f[1] > night_h1[1] and f[1] < night_h2[0]:\n",
    "            delta += night_h2[1] - f[0] + night_h1[1] + 1\n",
    "\n",
    "    return delta    "
   ]
  },
  {
   "cell_type": "code",
   "execution_count": null,
   "metadata": {},
   "outputs": [],
   "source": [
    "def night_percent(start, duration): # start и duration 'hh:mm'\n",
    "    d0 = in_minuts(duration)\n",
    "    d = in_hours(d0/2)\n",
    "    t = sum_time(start, d)\n",
    "    h1 = [start, t]\n",
    "    t = sum_time(t, '01:30')\n",
    "    h2 = [t, sum_time(t,d)]\n",
    "    return (find_night_minuts(h1) + find_night_minuts(h2))/d0"
   ]
  },
  {
   "cell_type": "code",
   "execution_count": null,
   "metadata": {},
   "outputs": [],
   "source": [
    "def is_night_flight(flight):\n",
    "    start = flight['Время вылета']\n",
    "    duration = flight['Налет']\n",
    "    n_pc = night_percent(start, duration)\n",
    "    if n_pc > 0.5:\n",
    "        return True\n",
    "    else:\n",
    "        return False"
   ]
  },
  {
   "cell_type": "code",
   "execution_count": null,
   "metadata": {},
   "outputs": [],
   "source": [
    "is_night_flight(flight)"
   ]
  },
  {
   "cell_type": "markdown",
   "metadata": {},
   "source": [
    "Конец файла"
   ]
  }
 ],
 "metadata": {
  "kernelspec": {
   "display_name": "Python 3",
   "language": "python",
   "name": "python3"
  },
  "language_info": {
   "codemirror_mode": {
    "name": "ipython",
    "version": 3
   },
   "file_extension": ".py",
   "mimetype": "text/x-python",
   "name": "python",
   "nbconvert_exporter": "python",
   "pygments_lexer": "ipython3",
   "version": "3.7.6"
  }
 },
 "nbformat": 4,
 "nbformat_minor": 4
}
