{
 "cells": [
  {
   "cell_type": "markdown",
   "metadata": {},
   "source": [
    "# Memetic algorithm"
   ]
  },
  {
   "cell_type": "markdown",
   "metadata": {},
   "source": [
    "Импорт библиотек"
   ]
  },
  {
   "cell_type": "code",
   "execution_count": 1,
   "metadata": {},
   "outputs": [],
   "source": [
    "import numpy as np\n",
    "import pandas as pd\n",
    "\n",
    "import matplotlib.pyplot as plt"
   ]
  },
  {
   "cell_type": "markdown",
   "metadata": {},
   "source": [
    "## Постановка задачи"
   ]
  },
  {
   "cell_type": "markdown",
   "metadata": {},
   "source": [
    "Имеется мультимножество $S$ из $n$ векторов $v \\in \\mathbb{R}^m$. Необходимо разделить $S$ на $k$ непересекающихся групп $S_1, \\dots, S_k$ так, чтобы величина"
   ]
  },
  {
   "cell_type": "markdown",
   "metadata": {},
   "source": [
    "$$t = \\max \\limits_{j \\in \\{1, \\dots, m\\}} \\Big\\{|\\max \\limits_{l \\in \\{1, \\dots, k\\}} \\left(\\sum \\limits_{i \\in S_l} {v_{ij}} \\right) - \\min \\limits_{l \\in \\{1, \\dots, k\\}} \\left(\\sum \\limits_{i \\in S_l} {v_{ij}} \\right) | \\Big\\}$$"
   ]
  },
  {
   "cell_type": "markdown",
   "metadata": {},
   "source": [
    "была минимальной."
   ]
  },
  {
   "cell_type": "markdown",
   "metadata": {},
   "source": [
    "## Описание алгоритма"
   ]
  },
  {
   "cell_type": "markdown",
   "metadata": {},
   "source": [
    "### Репрезентация решения"
   ]
  },
  {
   "cell_type": "markdown",
   "metadata": {},
   "source": [
    "Сгенерируем исходные данные при $n = 10$, $m = 4$. Пусть $k = 3$. Создадим какое нибудь разбиение для подсчёта целевой функции. Авторы статьи предлагают записывать решение в виде списка `dist` длины n, в каждой позиции котого находятся числа от 1 до $k$, если `dist[i] == l`, то $i$-ый вектор лежит в $l$-ой группе. В соответствии с терминологией генетического программирования список `dist` называется хромосомой, а его элементы – генами. "
   ]
  },
  {
   "cell_type": "code",
   "execution_count": 2,
   "metadata": {},
   "outputs": [],
   "source": [
    "n, m, k = 10, 4, 3"
   ]
  },
  {
   "cell_type": "code",
   "execution_count": 3,
   "metadata": {},
   "outputs": [
    {
     "name": "stdout",
     "output_type": "stream",
     "text": [
      "[[0.37454012 0.95071431 0.73199394 0.59865848]\n",
      " [0.15601864 0.15599452 0.05808361 0.86617615]\n",
      " [0.60111501 0.70807258 0.02058449 0.96990985]\n",
      " [0.83244264 0.21233911 0.18182497 0.18340451]\n",
      " [0.30424224 0.52475643 0.43194502 0.29122914]\n",
      " [0.61185289 0.13949386 0.29214465 0.36636184]\n",
      " [0.45606998 0.78517596 0.19967378 0.51423444]\n",
      " [0.59241457 0.04645041 0.60754485 0.17052412]\n",
      " [0.06505159 0.94888554 0.96563203 0.80839735]\n",
      " [0.30461377 0.09767211 0.68423303 0.44015249]]\n",
      "\n",
      "[2 0 2 2 1 0 1 1 1 1]\n"
     ]
    }
   ],
   "source": [
    "np.random.seed(42)\n",
    "vectors = np.random.random(size=(n, m))\n",
    "dist = np.random.randint(0, high=k, size=n)\n",
    "print(vectors, dist, sep='\\n\\n')"
   ]
  },
  {
   "cell_type": "markdown",
   "metadata": {},
   "source": [
    "Целевая функция"
   ]
  },
  {
   "cell_type": "code",
   "execution_count": 4,
   "metadata": {},
   "outputs": [],
   "source": [
    "def obfective_function(vectors, dist):\n",
    "    sums = np.array([vectors[dist == l].sum(axis=0) for l in range(k)])\n",
    "    return np.abs(sums.max(axis=0) - sums.min(axis=0)).max()"
   ]
  },
  {
   "cell_type": "code",
   "execution_count": 5,
   "metadata": {},
   "outputs": [
    {
     "data": {
      "text/plain": [
       "2.5388004515852125"
      ]
     },
     "execution_count": 5,
     "metadata": {},
     "output_type": "execute_result"
    }
   ],
   "source": [
    "obfective_function(vectors, dist)"
   ]
  },
  {
   "cell_type": "markdown",
   "metadata": {},
   "source": [
    "### Первое поколение"
   ]
  },
  {
   "cell_type": "markdown",
   "metadata": {},
   "source": [
    "Чтобы сгенерировать первое поколение, авторы предлагают два различных способа. Первый заключается в случайной генерации генов с заданными вероятностями (например, равными, как это будет реализовано). Такой подход может привести к большим значениям целевой функции. Второй подход заключается в том, что $q$ векторов разделяются по группам случайным образом, а остальные распределяются жадным алгоритмом. "
   ]
  },
  {
   "cell_type": "markdown",
   "metadata": {},
   "source": [
    "Будем для определённости считать, что в начальной популяции $p = 7$ хромосом. "
   ]
  },
  {
   "cell_type": "code",
   "execution_count": 6,
   "metadata": {},
   "outputs": [],
   "source": [
    "p = 7"
   ]
  },
  {
   "cell_type": "code",
   "execution_count": 7,
   "metadata": {},
   "outputs": [
    {
     "name": "stdout",
     "output_type": "stream",
     "text": [
      "[[1 1 1 0 2 1 1 1 1 1]\n",
      " [1 2 2 1 2 0 1 0 0 1]\n",
      " [2 0 1 0 0 0 0 2 0 0]\n",
      " [0 2 0 0 2 2 2 0 2 2]\n",
      " [0 2 0 1 2 1 0 2 0 1]\n",
      " [0 2 2 1 0 2 1 2 2 0]\n",
      " [2 0 2 1 2 0 0 1 2 2]]\n"
     ]
    }
   ],
   "source": [
    "initial_population = np.random.randint(0, high=k, size=(p, n))\n",
    "print(initial_population)"
   ]
  },
  {
   "cell_type": "markdown",
   "metadata": {},
   "source": [
    "У каждой хромосомы можно посчитать `fitness value` – значение целевой функции $t$, чтобы сравнивать её с другими хромосомами. В дальнейшем мы будем отбирать хромосомы с \"хорошим\" значеним $t$, а решения с \"плохим\" $t$ будем отсеивать. "
   ]
  },
  {
   "cell_type": "code",
   "execution_count": 8,
   "metadata": {},
   "outputs": [],
   "source": [
    "def fitness_values(vectors, initial_population):\n",
    "    return np.array([obfective_function(vectors, dist) for dist in initial_population])"
   ]
  },
  {
   "cell_type": "code",
   "execution_count": 9,
   "metadata": {},
   "outputs": [
    {
     "name": "stdout",
     "output_type": "stream",
     "text": [
      "[4.551 1.355 2.793 3.287 2.943 2.484 2.971]\n"
     ]
    }
   ],
   "source": [
    "values = fitness_values(vectors, initial_population)\n",
    "print(np.round(values, decimals=3))"
   ]
  },
  {
   "cell_type": "markdown",
   "metadata": {},
   "source": [
    "### Генетические операции"
   ]
  },
  {
   "cell_type": "markdown",
   "metadata": {},
   "source": [
    "#### Скрещивание"
   ]
  },
  {
   "cell_type": "markdown",
   "metadata": {},
   "source": [
    "Для каждого вновь созданного поколения некоторая часть поколения выбирается, чтобы сгенерировать новое поколение. Операция скрещивания подразумевает способ выбрать двух \"родителей\". В нашем случае мы выбираем двух родителей бинарным соревнованием. Берутся две случайных хромосомы, сравниваются их `fitness values` и выбирается лучшее. Два соревнования дают нам двух родителей. "
   ]
  },
  {
   "cell_type": "markdown",
   "metadata": {},
   "source": [
    "Сама операция кроссовера представляет собой `single point crossover`. Этот метод подразумевает, что выбирается случайная точка $G$ от 1 до $n - 1$ и создаются два \"ребёнка\". У первого ребёнка все гены до точки $G$ достаются от первого родителя, а гены после точки $G$ – от второго родителя. У второго родителя наоборот. "
   ]
  },
  {
   "cell_type": "markdown",
   "metadata": {},
   "source": [
    "<img src=\"https://upload.wikimedia.org/wikipedia/commons/thumb/5/56/OnePointCrossover.svg/231px-OnePointCrossover.svg.png\"/>"
   ]
  },
  {
   "cell_type": "markdown",
   "metadata": {},
   "source": [
    "Выберем двух родителей"
   ]
  },
  {
   "cell_type": "code",
   "execution_count": 10,
   "metadata": {},
   "outputs": [
    {
     "name": "stdout",
     "output_type": "stream",
     "text": [
      "Папа: [1 1 1 0 2 1 1 1 1 1]\n",
      "Мама: [2 0 1 0 0 0 0 2 0 0]\n"
     ]
    }
   ],
   "source": [
    "np.random.seed(42)\n",
    "tournament = np.random.choice(np.arange(p), size=(2, 2), replace=False)\n",
    "parent_1 = initial_population[tournament[0, values[tournament[0]].argmax()]]\n",
    "parent_2 = initial_population[tournament[1, values[tournament[1]].argmax()]]\n",
    "print('Папа: {}\\nМама: {}'.format(parent_1, parent_2))"
   ]
  },
  {
   "cell_type": "markdown",
   "metadata": {},
   "source": [
    "Выберем точку скрещивания"
   ]
  },
  {
   "cell_type": "code",
   "execution_count": 11,
   "metadata": {},
   "outputs": [
    {
     "name": "stdout",
     "output_type": "stream",
     "text": [
      "7\n"
     ]
    }
   ],
   "source": [
    "np.random.seed(42)\n",
    "crossover_point = np.random.randint(1, high=n-1, size=1)\n",
    "print(crossover_point[0])"
   ]
  },
  {
   "cell_type": "markdown",
   "metadata": {},
   "source": [
    "Процедура скрещивания:"
   ]
  },
  {
   "cell_type": "code",
   "execution_count": 12,
   "metadata": {},
   "outputs": [
    {
     "name": "stdout",
     "output_type": "stream",
     "text": [
      "Сыночек:\t[1 1 1 0 2 1 1 2 0 0]\n",
      "Лапочка-дочка:\t[2 0 1 0 0 0 0 1 1 1]\n"
     ]
    }
   ],
   "source": [
    "child_1 = np.hstack((parent_1[:crossover_point[0]], parent_2[crossover_point[0]:]))\n",
    "child_2 = np.hstack((parent_2[:crossover_point[0]], parent_1[crossover_point[0]:]))\n",
    "print('Сыночек:\\t{}\\nЛапочка-дочка:\\t{}'.format(child_1, child_2))"
   ]
  },
  {
   "cell_type": "markdown",
   "metadata": {},
   "source": [
    "#### Мутация"
   ]
  },
  {
   "cell_type": "markdown",
   "metadata": {},
   "source": [
    "Операция мутации подразумевает, что каждый ген в хромосоме меняется с заданной вероятностью на случайный. "
   ]
  },
  {
   "cell_type": "code",
   "execution_count": 13,
   "metadata": {},
   "outputs": [
    {
     "name": "stdout",
     "output_type": "stream",
     "text": [
      "До мутации:\t[2 0 2 2 1 0 1 1 1 1]\n",
      "После мутации:\t[2 0 2 2 1 0 0 1 1 1]\n"
     ]
    }
   ],
   "source": [
    "np.random.seed(42)\n",
    "probability = 0.1\n",
    "mutated = np.where(np.random.random(size=n) <= probability, np.random.randint(0, high=k, size=n), dist)\n",
    "print('До мутации:\\t{}\\nПосле мутации:\\t{}'.format(dist, mutated))"
   ]
  }
 ],
 "metadata": {
  "kernelspec": {
   "display_name": "Python 3",
   "language": "python",
   "name": "python3"
  },
  "language_info": {
   "codemirror_mode": {
    "name": "ipython",
    "version": 3
   },
   "file_extension": ".py",
   "mimetype": "text/x-python",
   "name": "python",
   "nbconvert_exporter": "python",
   "pygments_lexer": "ipython3",
   "version": "3.8.3"
  }
 },
 "nbformat": 4,
 "nbformat_minor": 4
}
