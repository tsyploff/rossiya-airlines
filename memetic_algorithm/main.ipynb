{
 "cells": [
  {
   "cell_type": "markdown",
   "metadata": {},
   "source": [
    "# Memetic algorithm"
   ]
  },
  {
   "cell_type": "markdown",
   "metadata": {},
   "source": [
    "Импортируем библиотеки"
   ]
  },
  {
   "cell_type": "code",
   "execution_count": 1,
   "metadata": {},
   "outputs": [],
   "source": [
    "import time\n",
    "import numpy as np \n",
    "import pandas as pd\n",
    "import itertools\n",
    "import matplotlib.pyplot as plt\n",
    "import ast\n",
    "%matplotlib inline\n",
    "\n",
    "from memetic_algorithm import Population, Memetic"
   ]
  },
  {
   "cell_type": "markdown",
   "metadata": {},
   "source": [
    "Генерируем данные"
   ]
  },
  {
   "cell_type": "code",
   "execution_count": null,
   "metadata": {},
   "outputs": [],
   "source": [
    "def get_product(n=[50, 100, 200, 500], m=[4, 6, 10, 12, 20, 30], k=range(3, 14)):\n",
    "    return list(itertools.product(n, m, k))\n",
    "\n",
    "class MEME:\n",
    "    \n",
    "    def __init__(self):\n",
    "        self.dataframe = pd.DataFrame()\n",
    "\n",
    "    def get_data(self, dct, repeat=20):\n",
    "        result_product = get_product(**dct)\n",
    "        for params in result_product:\n",
    "            for item in range(repeat):\n",
    "                print(params)\n",
    "                number_of_vectors, vectors_dimension, number_of_groups = params\n",
    "                np.random.seed(42)\n",
    "                vectors = np.random.random(size=(number_of_vectors, vectors_dimension))\n",
    "                population = Population(population=None, #можно самостоятельно инициализировать первое поколение\n",
    "                                        population_size=20, #размер поколения, если оно генерируется автоматически\n",
    "                                        random_state=42, \n",
    "                                        number_of_vectors=number_of_vectors, \n",
    "                                        vectors_dimension=vectors_dimension,\n",
    "                                        number_of_groups=number_of_groups,  \n",
    "                                        crossover_percent=0.85,\n",
    "                                        mutation_probability=0.1\n",
    "                                       )\n",
    "                start_time = time.time()\n",
    "                value, solution = Memetic.solve(vectors, population, number_of_steps=100)\n",
    "                idf = list(Memetic.solutions)[-1]\n",
    "                data = {**{'id':idf, \n",
    "                           'n':number_of_vectors,\n",
    "                           'm':vectors_dimension,\n",
    "                           'k':number_of_groups,\n",
    "                          'time_to_solve': time.time() - start_time}, \n",
    "                        **Memetic.solutions[idf]\n",
    "                       }\n",
    "                self.dataframe = self.dataframe.append(data, ignore_index=True)"
   ]
  },
  {
   "cell_type": "code",
   "execution_count": null,
   "metadata": {},
   "outputs": [],
   "source": [
    "dictionary = {'n': range(50, 550, 50), 'm': range(2, 20), 'k': range(2, 20)}"
   ]
  },
  {
   "cell_type": "code",
   "execution_count": null,
   "metadata": {},
   "outputs": [],
   "source": [
    "m = MEME()\n",
    "m.get_data(dictionary,repeat = 1)"
   ]
  },
  {
   "cell_type": "markdown",
   "metadata": {},
   "source": [
    "**Export**"
   ]
  },
  {
   "cell_type": "code",
   "execution_count": null,
   "metadata": {},
   "outputs": [],
   "source": [
    "data_export = m.dataframe.drop(columns=['end population', 'start population'])\n",
    "data_export.head()"
   ]
  },
  {
   "cell_type": "code",
   "execution_count": null,
   "metadata": {},
   "outputs": [],
   "source": [
    "data_export.to_csv('data.csv', index = False)"
   ]
  },
  {
   "cell_type": "markdown",
   "metadata": {},
   "source": [
    "**Import**"
   ]
  },
  {
   "cell_type": "code",
   "execution_count": 2,
   "metadata": {},
   "outputs": [],
   "source": [
    "def from_np_array(array_string):\n",
    "    array_string = ','.join(array_string.replace('[ ', '[').split())\n",
    "    return np.array(ast.literal_eval(array_string))"
   ]
  },
  {
   "cell_type": "code",
   "execution_count": 3,
   "metadata": {},
   "outputs": [
    {
     "data": {
      "text/html": [
       "<div>\n",
       "<style scoped>\n",
       "    .dataframe tbody tr th:only-of-type {\n",
       "        vertical-align: middle;\n",
       "    }\n",
       "\n",
       "    .dataframe tbody tr th {\n",
       "        vertical-align: top;\n",
       "    }\n",
       "\n",
       "    .dataframe thead th {\n",
       "        text-align: right;\n",
       "    }\n",
       "</style>\n",
       "<table border=\"1\" class=\"dataframe\">\n",
       "  <thead>\n",
       "    <tr style=\"text-align: right;\">\n",
       "      <th></th>\n",
       "      <th>id</th>\n",
       "      <th>k</th>\n",
       "      <th>m</th>\n",
       "      <th>n</th>\n",
       "      <th>objective function story</th>\n",
       "      <th>solution</th>\n",
       "      <th>time_to_solve</th>\n",
       "      <th>value</th>\n",
       "    </tr>\n",
       "  </thead>\n",
       "  <tbody>\n",
       "    <tr>\n",
       "      <th>0</th>\n",
       "      <td>1</td>\n",
       "      <td>2</td>\n",
       "      <td>2</td>\n",
       "      <td>50</td>\n",
       "      <td>[0.47584631, 0.47584631, 0.24758661, 0.2475866...</td>\n",
       "      <td>[1, 1, 0, 0, 0, 1, 1, 0, 1, 0, 1, 1, 0, 0, 0, ...</td>\n",
       "      <td>1.164920</td>\n",
       "      <td>0.047127</td>\n",
       "    </tr>\n",
       "    <tr>\n",
       "      <th>1</th>\n",
       "      <td>2</td>\n",
       "      <td>3</td>\n",
       "      <td>2</td>\n",
       "      <td>50</td>\n",
       "      <td>[1.48820469, 1.48820469, 1.48820469, 1.3550513...</td>\n",
       "      <td>[1, 2, 1, 2, 2, 0, 2, 2, 1, 2, 0, 0, 0, 2, 0, ...</td>\n",
       "      <td>1.196327</td>\n",
       "      <td>0.351419</td>\n",
       "    </tr>\n",
       "    <tr>\n",
       "      <th>2</th>\n",
       "      <td>3</td>\n",
       "      <td>4</td>\n",
       "      <td>2</td>\n",
       "      <td>50</td>\n",
       "      <td>[1.79457419, 1.79426614, 0.8395027, 0.8395027,...</td>\n",
       "      <td>[1, 2, 3, 2, 0, 1, 1, 0, 3, 1, 1, 3, 0, 3, 0, ...</td>\n",
       "      <td>1.172332</td>\n",
       "      <td>0.792145</td>\n",
       "    </tr>\n",
       "    <tr>\n",
       "      <th>3</th>\n",
       "      <td>4</td>\n",
       "      <td>5</td>\n",
       "      <td>2</td>\n",
       "      <td>50</td>\n",
       "      <td>[2.10711837, 2.09078029, 2.09078029, 1.3625164...</td>\n",
       "      <td>[0, 3, 2, 2, 4, 3, 0, 1, 2, 4, 1, 3, 4, 1, 0, ...</td>\n",
       "      <td>1.224292</td>\n",
       "      <td>0.730854</td>\n",
       "    </tr>\n",
       "    <tr>\n",
       "      <th>4</th>\n",
       "      <td>5</td>\n",
       "      <td>6</td>\n",
       "      <td>2</td>\n",
       "      <td>50</td>\n",
       "      <td>[2.65052987, 2.65052987, 2.39428408, 1.9282981...</td>\n",
       "      <td>[2, 4, 1, 3, 1, 5, 5, 4, 2, 2, 3, 1, 1, 2, 4, ...</td>\n",
       "      <td>1.293263</td>\n",
       "      <td>1.415622</td>\n",
       "    </tr>\n",
       "  </tbody>\n",
       "</table>\n",
       "</div>"
      ],
      "text/plain": [
       "   id  k  m   n                           objective function story  \\\n",
       "0   1  2  2  50  [0.47584631, 0.47584631, 0.24758661, 0.2475866...   \n",
       "1   2  3  2  50  [1.48820469, 1.48820469, 1.48820469, 1.3550513...   \n",
       "2   3  4  2  50  [1.79457419, 1.79426614, 0.8395027, 0.8395027,...   \n",
       "3   4  5  2  50  [2.10711837, 2.09078029, 2.09078029, 1.3625164...   \n",
       "4   5  6  2  50  [2.65052987, 2.65052987, 2.39428408, 1.9282981...   \n",
       "\n",
       "                                            solution  time_to_solve     value  \n",
       "0  [1, 1, 0, 0, 0, 1, 1, 0, 1, 0, 1, 1, 0, 0, 0, ...       1.164920  0.047127  \n",
       "1  [1, 2, 1, 2, 2, 0, 2, 2, 1, 2, 0, 0, 0, 2, 0, ...       1.196327  0.351419  \n",
       "2  [1, 2, 3, 2, 0, 1, 1, 0, 3, 1, 1, 3, 0, 3, 0, ...       1.172332  0.792145  \n",
       "3  [0, 3, 2, 2, 4, 3, 0, 1, 2, 4, 1, 3, 4, 1, 0, ...       1.224292  0.730854  \n",
       "4  [2, 4, 1, 3, 1, 5, 5, 4, 2, 2, 3, 1, 1, 2, 4, ...       1.293263  1.415622  "
      ]
     },
     "execution_count": 3,
     "metadata": {},
     "output_type": "execute_result"
    }
   ],
   "source": [
    "data_import = pd.read_csv('data.csv', converters={'objective function story': from_np_array,\n",
    "                                          'solution': from_np_array})\n",
    "data_import[['id', 'k', 'm', 'n']] = data_import[['id', 'k', 'm', 'n']].astype(int)\n",
    "data_import.head()"
   ]
  },
  {
   "cell_type": "markdown",
   "metadata": {},
   "source": [
    "## 1 Plots\n",
    "\n",
    "### 1.1 Зависимость значения целевой функции от количества векторов"
   ]
  },
  {
   "cell_type": "code",
   "execution_count": 5,
   "metadata": {},
   "outputs": [
    {
     "data": {
      "image/png": "[encoded data removed]",
      "text/plain": [
       "<Figure size 720x432 with 1 Axes>"
      ]
     },
     "metadata": {
      "needs_background": "light"
     },
     "output_type": "display_data"
    }
   ],
   "source": [
    "solegr = data_import.groupby(by = ['n','m']).mean().iloc[:, -2:]\n",
    "ax = solegr[solegr.index.get_level_values('m').isin([2])].value.plot(kind = 'barh', \n",
    "                                                                     figsize=(10,6),\n",
    "                                                                     label='t',\n",
    "                                                                     color = 'mediumpurple',\n",
    "                                                                     alpha = 0.8)\n",
    "ax.set_title(\"Зависимость значения целевой функции от количества векторов\", fontsize=14,fontname='Segoe UI')\n",
    "ax.set_ylabel(\"n - количество векторов, m - размерность вектора\",fontname='Segoe UI')\n",
    "ax.legend()\n",
    "plt.show()"
   ]
  },
  {
   "cell_type": "markdown",
   "metadata": {},
   "source": [
    "### 1.2 m = const"
   ]
  },
  {
   "cell_type": "code",
   "execution_count": 6,
   "metadata": {},
   "outputs": [],
   "source": [
    "d1 = data_import[data_import['m'] == 5]\n",
    "d2 = d1.groupby(by=['k','n']).mean()\n",
    "d3 = d2[(d2.index.get_level_values('k').isin([5, 10, 15])) & (d2.index.get_level_values('n').isin([50,200,450]))].iloc[:,-2]"
   ]
  },
  {
   "cell_type": "code",
   "execution_count": 7,
   "metadata": {},
   "outputs": [
    {
     "data": {
      "image/png": "[encoded data removed]",
      "text/plain": [
       "<Figure size 864x576 with 3 Axes>"
      ]
     },
     "metadata": {
      "needs_background": "light"
     },
     "output_type": "display_data"
    }
   ],
   "source": [
    "ax = d3.unstack\\\n",
    "(level =0).plot(kind='barh', \n",
    "                subplots=True, \n",
    "                figsize=(12,8),\n",
    "                color = ['slateblue','darkmagenta','indigo'],\n",
    "                alpha = 0.8)\n",
    "ax[0].set_title(\"Time Spend (k = 5): m = const\", fontname='Segoe UI')\n",
    "ax[1].set_title(\"Time Spend (k = 10): m = const\", fontname='Segoe UI')\n",
    "ax[2].set_title(\"Time Spend (k = 15): m = const\", fontname='Segoe UI')\n",
    "plt.show()"
   ]
  },
  {
   "cell_type": "markdown",
   "metadata": {},
   "source": [
    "### 1.3 n = const"
   ]
  },
  {
   "cell_type": "code",
   "execution_count": 8,
   "metadata": {},
   "outputs": [],
   "source": [
    "d1 = data_import[data_import['n'] == 450]\n",
    "d2 = d1.groupby(by=['m','k']).mean()\n",
    "d3 = d2[(d2.index.get_level_values('k').isin([5, 10, 15])) & (d2.index.get_level_values('m').isin([5,10,15]))].iloc[:,-2]"
   ]
  },
  {
   "cell_type": "code",
   "execution_count": 9,
   "metadata": {},
   "outputs": [
    {
     "data": {
      "image/png": "[encoded data removed]",
      "text/plain": [
       "<Figure size 864x576 with 3 Axes>"
      ]
     },
     "metadata": {
      "needs_background": "light"
     },
     "output_type": "display_data"
    }
   ],
   "source": [
    "ax = d3.unstack\\\n",
    "(level =0).plot(kind='barh', \n",
    "                subplots=True, \n",
    "                figsize=(12,8),\n",
    "                color = ['slateblue','darkmagenta','indigo'], \n",
    "                alpha = 0.8)\n",
    "\n",
    "ax[0].set_title(\"Time Spend (m = 5): n = const\", fontname='Segoe UI')\n",
    "ax[1].set_title(\"Time Spend (m = 10): n = const\", fontname='Segoe UI')\n",
    "ax[2].set_title(\"Time Spend (m = 15): n = const\", fontname='Segoe UI')\n",
    "plt.show()"
   ]
  },
  {
   "cell_type": "markdown",
   "metadata": {},
   "source": [
    "## 2. Tables"
   ]
  },
  {
   "cell_type": "code",
   "execution_count": 10,
   "metadata": {},
   "outputs": [
    {
     "data": {
      "text/html": [
       "<div>\n",
       "<style scoped>\n",
       "    .dataframe tbody tr th:only-of-type {\n",
       "        vertical-align: middle;\n",
       "    }\n",
       "\n",
       "    .dataframe tbody tr th {\n",
       "        vertical-align: top;\n",
       "    }\n",
       "\n",
       "    .dataframe thead th {\n",
       "        text-align: right;\n",
       "    }\n",
       "</style>\n",
       "<table border=\"1\" class=\"dataframe\">\n",
       "  <thead>\n",
       "    <tr style=\"text-align: right;\">\n",
       "      <th></th>\n",
       "      <th>time_to_solve</th>\n",
       "      <th>value</th>\n",
       "    </tr>\n",
       "    <tr>\n",
       "      <th>n</th>\n",
       "      <th></th>\n",
       "      <th></th>\n",
       "    </tr>\n",
       "  </thead>\n",
       "  <tbody>\n",
       "    <tr>\n",
       "      <th>50</th>\n",
       "      <td>2.048888</td>\n",
       "      <td>2.403725</td>\n",
       "    </tr>\n",
       "    <tr>\n",
       "      <th>100</th>\n",
       "      <td>2.036844</td>\n",
       "      <td>3.269183</td>\n",
       "    </tr>\n",
       "    <tr>\n",
       "      <th>150</th>\n",
       "      <td>1.899117</td>\n",
       "      <td>3.953067</td>\n",
       "    </tr>\n",
       "    <tr>\n",
       "      <th>200</th>\n",
       "      <td>2.525351</td>\n",
       "      <td>4.554296</td>\n",
       "    </tr>\n",
       "    <tr>\n",
       "      <th>250</th>\n",
       "      <td>2.878323</td>\n",
       "      <td>5.097604</td>\n",
       "    </tr>\n",
       "    <tr>\n",
       "      <th>300</th>\n",
       "      <td>2.255143</td>\n",
       "      <td>5.540543</td>\n",
       "    </tr>\n",
       "    <tr>\n",
       "      <th>350</th>\n",
       "      <td>2.229044</td>\n",
       "      <td>5.991761</td>\n",
       "    </tr>\n",
       "    <tr>\n",
       "      <th>400</th>\n",
       "      <td>2.077865</td>\n",
       "      <td>6.406521</td>\n",
       "    </tr>\n",
       "    <tr>\n",
       "      <th>450</th>\n",
       "      <td>2.918739</td>\n",
       "      <td>6.736689</td>\n",
       "    </tr>\n",
       "    <tr>\n",
       "      <th>500</th>\n",
       "      <td>3.202217</td>\n",
       "      <td>7.094062</td>\n",
       "    </tr>\n",
       "  </tbody>\n",
       "</table>\n",
       "</div>"
      ],
      "text/plain": [
       "     time_to_solve     value\n",
       "n                           \n",
       "50        2.048888  2.403725\n",
       "100       2.036844  3.269183\n",
       "150       1.899117  3.953067\n",
       "200       2.525351  4.554296\n",
       "250       2.878323  5.097604\n",
       "300       2.255143  5.540543\n",
       "350       2.229044  5.991761\n",
       "400       2.077865  6.406521\n",
       "450       2.918739  6.736689\n",
       "500       3.202217  7.094062"
      ]
     },
     "execution_count": 10,
     "metadata": {},
     "output_type": "execute_result"
    }
   ],
   "source": [
    "grouped_n = data_import.groupby(by = ['n']).mean().iloc[:, -2:]\n",
    "grouped_n"
   ]
  },
  {
   "cell_type": "code",
   "execution_count": 11,
   "metadata": {},
   "outputs": [
    {
     "data": {
      "text/plain": [
       "time_to_solve    3.202217\n",
       "value            7.094062\n",
       "dtype: float64"
      ]
     },
     "execution_count": 11,
     "metadata": {},
     "output_type": "execute_result"
    }
   ],
   "source": [
    "grouped_n.max()"
   ]
  },
  {
   "cell_type": "code",
   "execution_count": 12,
   "metadata": {},
   "outputs": [
    {
     "data": {
      "text/plain": [
       "time_to_solve    1.899117\n",
       "value            2.403725\n",
       "dtype: float64"
      ]
     },
     "execution_count": 12,
     "metadata": {},
     "output_type": "execute_result"
    }
   ],
   "source": [
    "grouped_n.min()"
   ]
  },
  {
   "cell_type": "code",
   "execution_count": 13,
   "metadata": {},
   "outputs": [
    {
     "data": {
      "text/html": [
       "<div>\n",
       "<style scoped>\n",
       "    .dataframe tbody tr th:only-of-type {\n",
       "        vertical-align: middle;\n",
       "    }\n",
       "\n",
       "    .dataframe tbody tr th {\n",
       "        vertical-align: top;\n",
       "    }\n",
       "\n",
       "    .dataframe thead th {\n",
       "        text-align: right;\n",
       "    }\n",
       "</style>\n",
       "<table border=\"1\" class=\"dataframe\">\n",
       "  <thead>\n",
       "    <tr style=\"text-align: right;\">\n",
       "      <th></th>\n",
       "      <th>time_to_solve</th>\n",
       "      <th>value</th>\n",
       "    </tr>\n",
       "    <tr>\n",
       "      <th>k</th>\n",
       "      <th></th>\n",
       "      <th></th>\n",
       "    </tr>\n",
       "  </thead>\n",
       "  <tbody>\n",
       "    <tr>\n",
       "      <th>2</th>\n",
       "      <td>1.825516</td>\n",
       "      <td>2.444778</td>\n",
       "    </tr>\n",
       "    <tr>\n",
       "      <th>3</th>\n",
       "      <td>1.823332</td>\n",
       "      <td>3.823023</td>\n",
       "    </tr>\n",
       "    <tr>\n",
       "      <th>4</th>\n",
       "      <td>1.956940</td>\n",
       "      <td>4.540368</td>\n",
       "    </tr>\n",
       "    <tr>\n",
       "      <th>5</th>\n",
       "      <td>1.992077</td>\n",
       "      <td>4.928055</td>\n",
       "    </tr>\n",
       "    <tr>\n",
       "      <th>6</th>\n",
       "      <td>2.094344</td>\n",
       "      <td>5.171793</td>\n",
       "    </tr>\n",
       "    <tr>\n",
       "      <th>7</th>\n",
       "      <td>2.190889</td>\n",
       "      <td>5.316018</td>\n",
       "    </tr>\n",
       "    <tr>\n",
       "      <th>8</th>\n",
       "      <td>2.188847</td>\n",
       "      <td>5.431026</td>\n",
       "    </tr>\n",
       "    <tr>\n",
       "      <th>9</th>\n",
       "      <td>2.290867</td>\n",
       "      <td>5.419571</td>\n",
       "    </tr>\n",
       "    <tr>\n",
       "      <th>10</th>\n",
       "      <td>2.400483</td>\n",
       "      <td>5.459042</td>\n",
       "    </tr>\n",
       "    <tr>\n",
       "      <th>11</th>\n",
       "      <td>2.454586</td>\n",
       "      <td>5.502177</td>\n",
       "    </tr>\n",
       "    <tr>\n",
       "      <th>12</th>\n",
       "      <td>2.504258</td>\n",
       "      <td>5.529185</td>\n",
       "    </tr>\n",
       "    <tr>\n",
       "      <th>13</th>\n",
       "      <td>2.538232</td>\n",
       "      <td>5.515611</td>\n",
       "    </tr>\n",
       "    <tr>\n",
       "      <th>14</th>\n",
       "      <td>2.657559</td>\n",
       "      <td>5.514128</td>\n",
       "    </tr>\n",
       "    <tr>\n",
       "      <th>15</th>\n",
       "      <td>2.805992</td>\n",
       "      <td>5.491795</td>\n",
       "    </tr>\n",
       "    <tr>\n",
       "      <th>16</th>\n",
       "      <td>2.787980</td>\n",
       "      <td>5.492890</td>\n",
       "    </tr>\n",
       "    <tr>\n",
       "      <th>17</th>\n",
       "      <td>2.835848</td>\n",
       "      <td>5.465933</td>\n",
       "    </tr>\n",
       "    <tr>\n",
       "      <th>18</th>\n",
       "      <td>2.971493</td>\n",
       "      <td>5.433778</td>\n",
       "    </tr>\n",
       "    <tr>\n",
       "      <th>19</th>\n",
       "      <td>3.009510</td>\n",
       "      <td>5.406238</td>\n",
       "    </tr>\n",
       "  </tbody>\n",
       "</table>\n",
       "</div>"
      ],
      "text/plain": [
       "    time_to_solve     value\n",
       "k                          \n",
       "2        1.825516  2.444778\n",
       "3        1.823332  3.823023\n",
       "4        1.956940  4.540368\n",
       "5        1.992077  4.928055\n",
       "6        2.094344  5.171793\n",
       "7        2.190889  5.316018\n",
       "8        2.188847  5.431026\n",
       "9        2.290867  5.419571\n",
       "10       2.400483  5.459042\n",
       "11       2.454586  5.502177\n",
       "12       2.504258  5.529185\n",
       "13       2.538232  5.515611\n",
       "14       2.657559  5.514128\n",
       "15       2.805992  5.491795\n",
       "16       2.787980  5.492890\n",
       "17       2.835848  5.465933\n",
       "18       2.971493  5.433778\n",
       "19       3.009510  5.406238"
      ]
     },
     "execution_count": 13,
     "metadata": {},
     "output_type": "execute_result"
    }
   ],
   "source": [
    "grouped_k = data_import.groupby(by = ['k']).mean().iloc[:, -2:]\n",
    "grouped_k"
   ]
  },
  {
   "cell_type": "code",
   "execution_count": 14,
   "metadata": {},
   "outputs": [
    {
     "data": {
      "text/plain": [
       "time_to_solve    3.009510\n",
       "value            5.529185\n",
       "dtype: float64"
      ]
     },
     "execution_count": 14,
     "metadata": {},
     "output_type": "execute_result"
    }
   ],
   "source": [
    "grouped_k.max()"
   ]
  },
  {
   "cell_type": "code",
   "execution_count": 15,
   "metadata": {},
   "outputs": [
    {
     "data": {
      "text/plain": [
       "time_to_solve    1.823332\n",
       "value            2.444778\n",
       "dtype: float64"
      ]
     },
     "execution_count": 15,
     "metadata": {},
     "output_type": "execute_result"
    }
   ],
   "source": [
    "grouped_k.min()"
   ]
  },
  {
   "cell_type": "code",
   "execution_count": 16,
   "metadata": {},
   "outputs": [
    {
     "data": {
      "text/html": [
       "<div>\n",
       "<style scoped>\n",
       "    .dataframe tbody tr th:only-of-type {\n",
       "        vertical-align: middle;\n",
       "    }\n",
       "\n",
       "    .dataframe tbody tr th {\n",
       "        vertical-align: top;\n",
       "    }\n",
       "\n",
       "    .dataframe thead th {\n",
       "        text-align: right;\n",
       "    }\n",
       "</style>\n",
       "<table border=\"1\" class=\"dataframe\">\n",
       "  <thead>\n",
       "    <tr style=\"text-align: right;\">\n",
       "      <th></th>\n",
       "      <th>time_to_solve</th>\n",
       "      <th>value</th>\n",
       "    </tr>\n",
       "    <tr>\n",
       "      <th>m</th>\n",
       "      <th></th>\n",
       "      <th></th>\n",
       "    </tr>\n",
       "  </thead>\n",
       "  <tbody>\n",
       "    <tr>\n",
       "      <th>2</th>\n",
       "      <td>2.295759</td>\n",
       "      <td>2.988650</td>\n",
       "    </tr>\n",
       "    <tr>\n",
       "      <th>3</th>\n",
       "      <td>2.027799</td>\n",
       "      <td>3.612560</td>\n",
       "    </tr>\n",
       "    <tr>\n",
       "      <th>4</th>\n",
       "      <td>2.257687</td>\n",
       "      <td>4.017250</td>\n",
       "    </tr>\n",
       "    <tr>\n",
       "      <th>5</th>\n",
       "      <td>2.636539</td>\n",
       "      <td>4.348858</td>\n",
       "    </tr>\n",
       "    <tr>\n",
       "      <th>6</th>\n",
       "      <td>2.686579</td>\n",
       "      <td>4.651514</td>\n",
       "    </tr>\n",
       "    <tr>\n",
       "      <th>7</th>\n",
       "      <td>2.415409</td>\n",
       "      <td>4.777311</td>\n",
       "    </tr>\n",
       "    <tr>\n",
       "      <th>8</th>\n",
       "      <td>2.472800</td>\n",
       "      <td>5.045640</td>\n",
       "    </tr>\n",
       "    <tr>\n",
       "      <th>9</th>\n",
       "      <td>2.466732</td>\n",
       "      <td>5.161228</td>\n",
       "    </tr>\n",
       "    <tr>\n",
       "      <th>10</th>\n",
       "      <td>2.424999</td>\n",
       "      <td>5.276690</td>\n",
       "    </tr>\n",
       "    <tr>\n",
       "      <th>11</th>\n",
       "      <td>2.440686</td>\n",
       "      <td>5.417875</td>\n",
       "    </tr>\n",
       "    <tr>\n",
       "      <th>12</th>\n",
       "      <td>2.426230</td>\n",
       "      <td>5.529346</td>\n",
       "    </tr>\n",
       "    <tr>\n",
       "      <th>13</th>\n",
       "      <td>2.546924</td>\n",
       "      <td>5.607450</td>\n",
       "    </tr>\n",
       "    <tr>\n",
       "      <th>14</th>\n",
       "      <td>2.306495</td>\n",
       "      <td>5.699650</td>\n",
       "    </tr>\n",
       "    <tr>\n",
       "      <th>15</th>\n",
       "      <td>2.190629</td>\n",
       "      <td>5.793698</td>\n",
       "    </tr>\n",
       "    <tr>\n",
       "      <th>16</th>\n",
       "      <td>2.236229</td>\n",
       "      <td>5.876640</td>\n",
       "    </tr>\n",
       "    <tr>\n",
       "      <th>17</th>\n",
       "      <td>2.535906</td>\n",
       "      <td>6.001630</td>\n",
       "    </tr>\n",
       "    <tr>\n",
       "      <th>18</th>\n",
       "      <td>2.491307</td>\n",
       "      <td>6.039820</td>\n",
       "    </tr>\n",
       "    <tr>\n",
       "      <th>19</th>\n",
       "      <td>2.470044</td>\n",
       "      <td>6.039599</td>\n",
       "    </tr>\n",
       "  </tbody>\n",
       "</table>\n",
       "</div>"
      ],
      "text/plain": [
       "    time_to_solve     value\n",
       "m                          \n",
       "2        2.295759  2.988650\n",
       "3        2.027799  3.612560\n",
       "4        2.257687  4.017250\n",
       "5        2.636539  4.348858\n",
       "6        2.686579  4.651514\n",
       "7        2.415409  4.777311\n",
       "8        2.472800  5.045640\n",
       "9        2.466732  5.161228\n",
       "10       2.424999  5.276690\n",
       "11       2.440686  5.417875\n",
       "12       2.426230  5.529346\n",
       "13       2.546924  5.607450\n",
       "14       2.306495  5.699650\n",
       "15       2.190629  5.793698\n",
       "16       2.236229  5.876640\n",
       "17       2.535906  6.001630\n",
       "18       2.491307  6.039820\n",
       "19       2.470044  6.039599"
      ]
     },
     "execution_count": 16,
     "metadata": {},
     "output_type": "execute_result"
    }
   ],
   "source": [
    "grouped_m = data_import.groupby(by = ['m']).mean().iloc[:, -2:]\n",
    "grouped_m"
   ]
  },
  {
   "cell_type": "code",
   "execution_count": 17,
   "metadata": {},
   "outputs": [
    {
     "data": {
      "text/plain": [
       "time_to_solve    2.686579\n",
       "value            6.039820\n",
       "dtype: float64"
      ]
     },
     "execution_count": 17,
     "metadata": {},
     "output_type": "execute_result"
    }
   ],
   "source": [
    "grouped_m.max()"
   ]
  },
  {
   "cell_type": "code",
   "execution_count": null,
   "metadata": {},
   "outputs": [],
   "source": [
    "grouped_m.min()"
   ]
  }
 ],
 "metadata": {
  "kernelspec": {
   "display_name": "Python 3",
   "language": "python",
   "name": "python3"
  },
  "language_info": {
   "codemirror_mode": {
    "name": "ipython",
    "version": 3
   },
   "file_extension": ".py",
   "mimetype": "text/x-python",
   "name": "python",
   "nbconvert_exporter": "python",
   "pygments_lexer": "ipython3",
   "version": "3.8.3"
  }
 },
 "nbformat": 4,
 "nbformat_minor": 4
}
