{
 "cells": [
  {
   "cell_type": "markdown",
   "metadata": {},
   "source": [
    "# Memetic algorithm"
   ]
  },
  {
   "cell_type": "markdown",
   "metadata": {},
   "source": [
    "Импортируем библиотеки"
   ]
  },
  {
   "cell_type": "code",
   "execution_count": 1,
   "metadata": {},
   "outputs": [],
   "source": [
    "import numpy as np \n",
    "import pandas as pd\n",
    "\n",
    "import matplotlib.pyplot as plt\n",
    "%matplotlib inline\n",
    "\n",
    "from memetic_algorithm import Population, Memetic"
   ]
  },
  {
   "cell_type": "markdown",
   "metadata": {},
   "source": [
    "Сгенерируем или импортируем данные"
   ]
  },
  {
   "cell_type": "code",
   "execution_count": 2,
   "metadata": {},
   "outputs": [],
   "source": [
    "number_of_vectors, vectors_dimension, number_of_groups = 10, 4, 3"
   ]
  },
  {
   "cell_type": "code",
   "execution_count": 3,
   "metadata": {},
   "outputs": [
    {
     "name": "stdout",
     "output_type": "stream",
     "text": [
      "[[0.37454012 0.95071431 0.73199394 0.59865848]\n",
      " [0.15601864 0.15599452 0.05808361 0.86617615]\n",
      " [0.60111501 0.70807258 0.02058449 0.96990985]\n",
      " [0.83244264 0.21233911 0.18182497 0.18340451]\n",
      " [0.30424224 0.52475643 0.43194502 0.29122914]\n",
      " [0.61185289 0.13949386 0.29214465 0.36636184]\n",
      " [0.45606998 0.78517596 0.19967378 0.51423444]\n",
      " [0.59241457 0.04645041 0.60754485 0.17052412]\n",
      " [0.06505159 0.94888554 0.96563203 0.80839735]\n",
      " [0.30461377 0.09767211 0.68423303 0.44015249]]\n"
     ]
    }
   ],
   "source": [
    "np.random.seed(42)\n",
    "vectors = np.random.random(size=(number_of_vectors, vectors_dimension))\n",
    "print(vectors)"
   ]
  },
  {
   "cell_type": "code",
   "execution_count": null,
   "metadata": {},
   "outputs": [],
   "source": []
  },
  {
   "cell_type": "code",
   "execution_count": null,
   "metadata": {},
   "outputs": [],
   "source": []
  },
  {
   "cell_type": "markdown",
   "metadata": {},
   "source": [
    "Настроим генетический алгоритм"
   ]
  },
  {
   "cell_type": "code",
   "execution_count": 4,
   "metadata": {},
   "outputs": [],
   "source": [
    "population = Population(population=None, #можно самостоятельно инициализировать первое поколение\n",
    "                        population_size=20, #размер поколения, если оно генерируется автоматически\n",
    "                        random_state=42, \n",
    "                        number_of_vectors=number_of_vectors, \n",
    "                        vectors_dimension=vectors_dimension,\n",
    "                        number_of_groups=number_of_groups,  \n",
    "                        crossover_percent=0.85,\n",
    "                        mutation_probability=0.1\n",
    "                       )"
   ]
  },
  {
   "cell_type": "markdown",
   "metadata": {},
   "source": [
    "Ищем решение"
   ]
  },
  {
   "cell_type": "code",
   "execution_count": 5,
   "metadata": {},
   "outputs": [
    {
     "name": "stdout",
     "output_type": "stream",
     "text": [
      "Решение записано в Memetic.solutions, идентификатор: 1\n"
     ]
    }
   ],
   "source": [
    "value, solution = Memetic.solve(vectors, population, number_of_steps=100)"
   ]
  },
  {
   "cell_type": "markdown",
   "metadata": {},
   "source": [
    "Можно переходить к анализу. Например, вывести график изменения целевой функции"
   ]
  },
  {
   "cell_type": "code",
   "execution_count": 6,
   "metadata": {},
   "outputs": [
    {
     "data": {
      "image/png": "[encoded data removed]",
      "text/plain": [
       "<Figure size 720x432 with 1 Axes>"
      ]
     },
     "metadata": {
      "needs_background": "light"
     },
     "output_type": "display_data"
    }
   ],
   "source": [
    "identificator = 1\n",
    "y = Memetic.solutions[identificator]['objective function story']\n",
    "x = np.arange(1, 1 + len(y))\n",
    "\n",
    "plt.figure(figsize=(10, 6))\n",
    "plt.plot(x, y)\n",
    "plt.xlabel('Номер итерации')\n",
    "plt.ylabel('Значение целевой функции')\n",
    "plt.grid()\n",
    "plt.show()"
   ]
  }
 ],
 "metadata": {
  "kernelspec": {
   "display_name": "Python 3",
   "language": "python",
   "name": "python3"
  },
  "language_info": {
   "codemirror_mode": {
    "name": "ipython",
    "version": 3
   },
   "file_extension": ".py",
   "mimetype": "text/x-python",
   "name": "python",
   "nbconvert_exporter": "python",
   "pygments_lexer": "ipython3",
   "version": "3.7.6"
  }
 },
 "nbformat": 4,
 "nbformat_minor": 4
}
